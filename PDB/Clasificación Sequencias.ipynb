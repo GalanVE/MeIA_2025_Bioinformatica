{
 "cells": [
  {
   "cell_type": "markdown",
   "metadata": {
    "id": "dWdxEvXDrZRS"
   },
   "source": [
    "# Inteligencia Artificial Aplicada al Análisis de Datos Biológicos\n",
    "\n",
    "\n",
    "_MeIA_\n",
    "\n",
    "`2025`"
   ]
  },
  {
   "cell_type": "markdown",
   "metadata": {
    "id": "tcPwEB4mrZPt"
   },
   "source": [
    "Este conjunto de datos proviene desde el Research Collaboratory for Structure Bioinformatics (RCSB) Protein Data Bank https://www.rcsb.org/docs/programmatic-access/file-download-services\n",
    "\n",
    "PDB es un repositorio de coordenadas atómicas y otra información que describe proteínas y otras macromoleculas biológicas importantes. \n",
    "\n",
    "Los biológos estructurales utilizan mçetodos como la cristalografía de rayos X, la espectroscopia de RMN y la criomicroscopía electrónica para determinar la ubicación de cada átomo en la molécula. Posteriormente, depositan esta información que despues es publicada en PDB.\n",
    "\n",
    "El dataset contiene dos archivos.\n",
    "- El primero es un conjunto de metadatos de las biomoleculas, que incluye detalles de su clasificación, método de extracción, resolución, etc.\n",
    "\n",
    "- El segundo contiene 467304 secuencia de las proteínas\n"
   ]
  },
  {
   "cell_type": "code",
   "execution_count": 1,
   "metadata": {
    "id": "D_zWVJvBrdo5"
   },
   "outputs": [],
   "source": [
    "import pandas as pd\n",
    "import numpy as np\n",
    "from matplotlib import pyplot as plt\n",
    "import seaborn as sns\n",
    "from sklearn.feature_extraction.text import CountVectorizer\n",
    "from sklearn.model_selection import train_test_split\n",
    "from sklearn.metrics import accuracy_score, confusion_matrix, classification_report"
   ]
  },
  {
   "cell_type": "code",
   "execution_count": 2,
   "metadata": {
    "id": "Whe2W_uzrsRG"
   },
   "outputs": [],
   "source": [
    "# Import Datasets\n",
    "df_seq = pd.read_csv('./pdb_seq.csv')\n",
    "df_char = pd.read_csv('./pdb_no_dups.csv')"
   ]
  },
  {
   "cell_type": "code",
   "execution_count": 3,
   "metadata": {},
   "outputs": [
    {
     "name": "stdout",
     "output_type": "stream",
     "text": [
      "<class 'pandas.core.frame.DataFrame'>\n",
      "RangeIndex: 467304 entries, 0 to 467303\n",
      "Data columns (total 5 columns):\n",
      " #   Column             Non-Null Count   Dtype \n",
      "---  ------             --------------   ----- \n",
      " 0   structureId        467304 non-null  object\n",
      " 1   chainId            467294 non-null  object\n",
      " 2   sequence           467276 non-null  object\n",
      " 3   residueCount       467304 non-null  int64 \n",
      " 4   macromoleculeType  432487 non-null  object\n",
      "dtypes: int64(1), object(4)\n",
      "memory usage: 17.8+ MB\n"
     ]
    }
   ],
   "source": [
    "df_seq.info()"
   ]
  },
  {
   "cell_type": "code",
   "execution_count": 4,
   "metadata": {
    "scrolled": true
   },
   "outputs": [
    {
     "name": "stdout",
     "output_type": "stream",
     "text": [
      "<class 'pandas.core.frame.DataFrame'>\n",
      "RangeIndex: 141401 entries, 0 to 141400\n",
      "Data columns (total 14 columns):\n",
      " #   Column                    Non-Null Count   Dtype  \n",
      "---  ------                    --------------   -----  \n",
      " 0   structureId               141401 non-null  object \n",
      " 1   classification            141399 non-null  object \n",
      " 2   experimentalTechnique     141401 non-null  object \n",
      " 3   macromoleculeType         137636 non-null  object \n",
      " 4   residueCount              141401 non-null  int64  \n",
      " 5   resolution                128589 non-null  float64\n",
      " 6   structureMolecularWeight  141401 non-null  float64\n",
      " 7   crystallizationMethod     96242 non-null   object \n",
      " 8   crystallizationTempK      97039 non-null   float64\n",
      " 9   densityMatthews           124724 non-null  float64\n",
      " 10  densityPercentSol         124749 non-null  float64\n",
      " 11  pdbxDetails               118534 non-null  object \n",
      " 12  phValue                   105110 non-null  float64\n",
      " 13  publicationYear           117602 non-null  float64\n",
      "dtypes: float64(7), int64(1), object(6)\n",
      "memory usage: 15.1+ MB\n"
     ]
    }
   ],
   "source": [
    "df_char.info()"
   ]
  },
  {
   "cell_type": "code",
   "execution_count": 5,
   "metadata": {},
   "outputs": [
    {
     "name": "stdout",
     "output_type": "stream",
     "text": [
      "Number of missing values ​​per column:\n",
      "structureId                     0\n",
      "classification                  2\n",
      "experimentalTechnique           0\n",
      "macromoleculeType            3765\n",
      "residueCount                    0\n",
      "resolution                  12812\n",
      "structureMolecularWeight        0\n",
      "crystallizationMethod       45159\n",
      "crystallizationTempK        44362\n",
      "densityMatthews             16677\n",
      "densityPercentSol           16652\n",
      "pdbxDetails                 22867\n",
      "phValue                     36291\n",
      "publicationYear             23799\n",
      "dtype: int64\n"
     ]
    }
   ],
   "source": [
    "print(\"Number of missing values ​​per column:\")\n",
    "print(df_char.isnull().sum())"
   ]
  },
  {
   "cell_type": "code",
   "execution_count": 6,
   "metadata": {},
   "outputs": [
    {
     "data": {
      "text/plain": [
       "array(['DNA/RNA Hybrid', 'DNA', 'Protein', 'Protein#DNA', nan, 'DNA#RNA',\n",
       "       'RNA', 'DNA#DNA/RNA Hybrid', 'Protein#RNA', 'RNA#DNA/RNA Hybrid',\n",
       "       'Protein#DNA/RNA Hybrid', 'Protein#DNA#RNA',\n",
       "       'Protein#DNA#DNA/RNA Hybrid', 'Protein#RNA#DNA/RNA Hybrid'],\n",
       "      dtype=object)"
      ]
     },
     "execution_count": 6,
     "metadata": {},
     "output_type": "execute_result"
    }
   ],
   "source": [
    "df_char['macromoleculeType'].unique()"
   ]
  },
  {
   "cell_type": "code",
   "execution_count": 7,
   "metadata": {},
   "outputs": [
    {
     "name": "stdout",
     "output_type": "stream",
     "text": [
      "['DNA RNA Hybrid' 'DNA' 'Protein' 'Protein DNA' 'DNA RNA' 'RNA'\n",
      " 'DNA DNA RNA Hybrid' 'Protein RNA' 'RNA DNA RNA Hybrid'\n",
      " 'Protein DNA RNA Hybrid' 'Protein DNA RNA' 'Protein DNA DNA RNA Hybrid'\n",
      " 'Protein RNA DNA RNA Hybrid']\n"
     ]
    }
   ],
   "source": [
    "# Remove null values\n",
    "df_char = df_char.dropna(subset=['macromoleculeType', 'residueCount'])\n",
    "\n",
    "# Replace special characters in 'macromoleculeType'\n",
    "df_char['macromoleculeType'] = df_char['macromoleculeType'].str.replace('#', ' ')\n",
    "df_char['macromoleculeType'] = df_char['macromoleculeType'].str.replace('/', ' ')\n",
    "\n",
    "print(df_char['macromoleculeType'].unique())"
   ]
  },
  {
   "cell_type": "code",
   "execution_count": 8,
   "metadata": {},
   "outputs": [
    {
     "data": {
      "text/html": [
       "<div>\n",
       "<style scoped>\n",
       "    .dataframe tbody tr th:only-of-type {\n",
       "        vertical-align: middle;\n",
       "    }\n",
       "\n",
       "    .dataframe tbody tr th {\n",
       "        vertical-align: top;\n",
       "    }\n",
       "\n",
       "    .dataframe thead th {\n",
       "        text-align: right;\n",
       "    }\n",
       "</style>\n",
       "<table border=\"1\" class=\"dataframe\">\n",
       "  <thead>\n",
       "    <tr style=\"text-align: right;\">\n",
       "      <th></th>\n",
       "      <th>macromoleculeType</th>\n",
       "      <th>residueCount</th>\n",
       "    </tr>\n",
       "  </thead>\n",
       "  <tbody>\n",
       "    <tr>\n",
       "      <th>0</th>\n",
       "      <td>DNA</td>\n",
       "      <td>30.123280</td>\n",
       "    </tr>\n",
       "    <tr>\n",
       "      <th>1</th>\n",
       "      <td>DNA DNA RNA Hybrid</td>\n",
       "      <td>18.307692</td>\n",
       "    </tr>\n",
       "    <tr>\n",
       "      <th>2</th>\n",
       "      <td>DNA RNA</td>\n",
       "      <td>28.843137</td>\n",
       "    </tr>\n",
       "    <tr>\n",
       "      <th>3</th>\n",
       "      <td>DNA RNA Hybrid</td>\n",
       "      <td>26.448276</td>\n",
       "    </tr>\n",
       "    <tr>\n",
       "      <th>4</th>\n",
       "      <td>Protein</td>\n",
       "      <td>721.049046</td>\n",
       "    </tr>\n",
       "    <tr>\n",
       "      <th>5</th>\n",
       "      <td>Protein DNA</td>\n",
       "      <td>736.706178</td>\n",
       "    </tr>\n",
       "    <tr>\n",
       "      <th>6</th>\n",
       "      <td>Protein DNA DNA RNA Hybrid</td>\n",
       "      <td>775.294118</td>\n",
       "    </tr>\n",
       "    <tr>\n",
       "      <th>7</th>\n",
       "      <td>Protein DNA RNA</td>\n",
       "      <td>3487.700000</td>\n",
       "    </tr>\n",
       "    <tr>\n",
       "      <th>8</th>\n",
       "      <td>Protein DNA RNA Hybrid</td>\n",
       "      <td>521.263158</td>\n",
       "    </tr>\n",
       "    <tr>\n",
       "      <th>9</th>\n",
       "      <td>Protein RNA</td>\n",
       "      <td>5583.260407</td>\n",
       "    </tr>\n",
       "    <tr>\n",
       "      <th>10</th>\n",
       "      <td>Protein RNA DNA RNA Hybrid</td>\n",
       "      <td>6762.000000</td>\n",
       "    </tr>\n",
       "    <tr>\n",
       "      <th>11</th>\n",
       "      <td>RNA</td>\n",
       "      <td>114.111969</td>\n",
       "    </tr>\n",
       "    <tr>\n",
       "      <th>12</th>\n",
       "      <td>RNA DNA RNA Hybrid</td>\n",
       "      <td>93.703704</td>\n",
       "    </tr>\n",
       "  </tbody>\n",
       "</table>\n",
       "</div>"
      ],
      "text/plain": [
       "             macromoleculeType  residueCount\n",
       "0                          DNA     30.123280\n",
       "1           DNA DNA RNA Hybrid     18.307692\n",
       "2                      DNA RNA     28.843137\n",
       "3               DNA RNA Hybrid     26.448276\n",
       "4                      Protein    721.049046\n",
       "5                  Protein DNA    736.706178\n",
       "6   Protein DNA DNA RNA Hybrid    775.294118\n",
       "7              Protein DNA RNA   3487.700000\n",
       "8       Protein DNA RNA Hybrid    521.263158\n",
       "9                  Protein RNA   5583.260407\n",
       "10  Protein RNA DNA RNA Hybrid   6762.000000\n",
       "11                         RNA    114.111969\n",
       "12          RNA DNA RNA Hybrid     93.703704"
      ]
     },
     "execution_count": 8,
     "metadata": {},
     "output_type": "execute_result"
    }
   ],
   "source": [
    "# Remove null values from the relevant columns in the original dataset\n",
    "df_char = df_char.dropna(subset=['macromoleculeType', 'residueCount'])\n",
    "\n",
    "# Recreate 'summary_data' directly by grouping and calculating the mean\n",
    "summary_data = df_char.groupby('macromoleculeType', as_index=False)['residueCount'].mean()\n",
    "\n",
    "# Check if 'summary_data' is structured correctly\n",
    "summary_data.columns\n",
    "summary_data.dtypes\n",
    "summary_data.head(n=20)"
   ]
  },
  {
   "cell_type": "code",
   "execution_count": 9,
   "metadata": {
    "id": "BRbTCeCArsOC"
   },
   "outputs": [],
   "source": [
    "# Filter for only proteins\n",
    "protein_char = df_char[df_char.macromoleculeType == 'Protein']\n",
    "protein_seq = df_seq[df_seq.macromoleculeType == 'Protein']"
   ]
  },
  {
   "cell_type": "code",
   "execution_count": 10,
   "metadata": {
    "colab": {
     "base_uri": "https://localhost:8080/",
     "height": 453
    },
    "executionInfo": {
     "elapsed": 92,
     "status": "ok",
     "timestamp": 1745215790423,
     "user": {
      "displayName": "Edgardo Galán Vásquez",
      "userId": "05594155599386609537"
     },
     "user_tz": 360
    },
    "id": "mgeTynNXrsLH",
    "outputId": "21e536f0-8ca3-49b0-9246-7f2bba137804"
   },
   "outputs": [
    {
     "data": {
      "text/html": [
       "<div>\n",
       "<style scoped>\n",
       "    .dataframe tbody tr th:only-of-type {\n",
       "        vertical-align: middle;\n",
       "    }\n",
       "\n",
       "    .dataframe tbody tr th {\n",
       "        vertical-align: top;\n",
       "    }\n",
       "\n",
       "    .dataframe thead th {\n",
       "        text-align: right;\n",
       "    }\n",
       "</style>\n",
       "<table border=\"1\" class=\"dataframe\">\n",
       "  <thead>\n",
       "    <tr style=\"text-align: right;\">\n",
       "      <th></th>\n",
       "      <th>structureId</th>\n",
       "      <th>classification</th>\n",
       "      <th>experimentalTechnique</th>\n",
       "      <th>macromoleculeType</th>\n",
       "      <th>residueCount</th>\n",
       "      <th>resolution</th>\n",
       "      <th>structureMolecularWeight</th>\n",
       "      <th>crystallizationMethod</th>\n",
       "      <th>crystallizationTempK</th>\n",
       "      <th>densityMatthews</th>\n",
       "      <th>densityPercentSol</th>\n",
       "      <th>pdbxDetails</th>\n",
       "      <th>phValue</th>\n",
       "      <th>publicationYear</th>\n",
       "    </tr>\n",
       "  </thead>\n",
       "  <tbody>\n",
       "    <tr>\n",
       "      <th>2</th>\n",
       "      <td>101M</td>\n",
       "      <td>OXYGEN TRANSPORT</td>\n",
       "      <td>X-RAY DIFFRACTION</td>\n",
       "      <td>Protein</td>\n",
       "      <td>154</td>\n",
       "      <td>2.07</td>\n",
       "      <td>18112.80</td>\n",
       "      <td>NaN</td>\n",
       "      <td>NaN</td>\n",
       "      <td>3.09</td>\n",
       "      <td>60.20</td>\n",
       "      <td>3.0 M AMMONIUM SULFATE, 20 MM TRIS, 1MM EDTA, ...</td>\n",
       "      <td>9.0</td>\n",
       "      <td>1999.0</td>\n",
       "    </tr>\n",
       "    <tr>\n",
       "      <th>4</th>\n",
       "      <td>102L</td>\n",
       "      <td>HYDROLASE(O-GLYCOSYL)</td>\n",
       "      <td>X-RAY DIFFRACTION</td>\n",
       "      <td>Protein</td>\n",
       "      <td>165</td>\n",
       "      <td>1.74</td>\n",
       "      <td>18926.61</td>\n",
       "      <td>NaN</td>\n",
       "      <td>NaN</td>\n",
       "      <td>2.75</td>\n",
       "      <td>55.28</td>\n",
       "      <td>NaN</td>\n",
       "      <td>NaN</td>\n",
       "      <td>1993.0</td>\n",
       "    </tr>\n",
       "    <tr>\n",
       "      <th>5</th>\n",
       "      <td>102M</td>\n",
       "      <td>OXYGEN TRANSPORT</td>\n",
       "      <td>X-RAY DIFFRACTION</td>\n",
       "      <td>Protein</td>\n",
       "      <td>154</td>\n",
       "      <td>1.84</td>\n",
       "      <td>18010.64</td>\n",
       "      <td>NaN</td>\n",
       "      <td>NaN</td>\n",
       "      <td>3.09</td>\n",
       "      <td>60.20</td>\n",
       "      <td>3.0 M AMMONIUM SULFATE, 20 MM TRIS, 1MM EDTA, ...</td>\n",
       "      <td>9.0</td>\n",
       "      <td>1999.0</td>\n",
       "    </tr>\n",
       "    <tr>\n",
       "      <th>7</th>\n",
       "      <td>103L</td>\n",
       "      <td>HYDROLASE(O-GLYCOSYL)</td>\n",
       "      <td>X-RAY DIFFRACTION</td>\n",
       "      <td>Protein</td>\n",
       "      <td>167</td>\n",
       "      <td>1.90</td>\n",
       "      <td>19092.72</td>\n",
       "      <td>NaN</td>\n",
       "      <td>NaN</td>\n",
       "      <td>2.70</td>\n",
       "      <td>54.46</td>\n",
       "      <td>NaN</td>\n",
       "      <td>NaN</td>\n",
       "      <td>1993.0</td>\n",
       "    </tr>\n",
       "    <tr>\n",
       "      <th>8</th>\n",
       "      <td>103M</td>\n",
       "      <td>OXYGEN TRANSPORT</td>\n",
       "      <td>X-RAY DIFFRACTION</td>\n",
       "      <td>Protein</td>\n",
       "      <td>154</td>\n",
       "      <td>2.07</td>\n",
       "      <td>18093.78</td>\n",
       "      <td>NaN</td>\n",
       "      <td>NaN</td>\n",
       "      <td>3.09</td>\n",
       "      <td>60.30</td>\n",
       "      <td>3.0 M AMMONIUM SULFATE, 20 MM TRIS, 1MM EDTA, ...</td>\n",
       "      <td>9.0</td>\n",
       "      <td>1999.0</td>\n",
       "    </tr>\n",
       "  </tbody>\n",
       "</table>\n",
       "</div>"
      ],
      "text/plain": [
       "  structureId         classification experimentalTechnique macromoleculeType  \\\n",
       "2        101M       OXYGEN TRANSPORT     X-RAY DIFFRACTION           Protein   \n",
       "4        102L  HYDROLASE(O-GLYCOSYL)     X-RAY DIFFRACTION           Protein   \n",
       "5        102M       OXYGEN TRANSPORT     X-RAY DIFFRACTION           Protein   \n",
       "7        103L  HYDROLASE(O-GLYCOSYL)     X-RAY DIFFRACTION           Protein   \n",
       "8        103M       OXYGEN TRANSPORT     X-RAY DIFFRACTION           Protein   \n",
       "\n",
       "   residueCount  resolution  structureMolecularWeight crystallizationMethod  \\\n",
       "2           154        2.07                  18112.80                   NaN   \n",
       "4           165        1.74                  18926.61                   NaN   \n",
       "5           154        1.84                  18010.64                   NaN   \n",
       "7           167        1.90                  19092.72                   NaN   \n",
       "8           154        2.07                  18093.78                   NaN   \n",
       "\n",
       "   crystallizationTempK  densityMatthews  densityPercentSol  \\\n",
       "2                   NaN             3.09              60.20   \n",
       "4                   NaN             2.75              55.28   \n",
       "5                   NaN             3.09              60.20   \n",
       "7                   NaN             2.70              54.46   \n",
       "8                   NaN             3.09              60.30   \n",
       "\n",
       "                                         pdbxDetails  phValue  publicationYear  \n",
       "2  3.0 M AMMONIUM SULFATE, 20 MM TRIS, 1MM EDTA, ...      9.0           1999.0  \n",
       "4                                                NaN      NaN           1993.0  \n",
       "5  3.0 M AMMONIUM SULFATE, 20 MM TRIS, 1MM EDTA, ...      9.0           1999.0  \n",
       "7                                                NaN      NaN           1993.0  \n",
       "8  3.0 M AMMONIUM SULFATE, 20 MM TRIS, 1MM EDTA, ...      9.0           1999.0  "
      ]
     },
     "execution_count": 10,
     "metadata": {},
     "output_type": "execute_result"
    }
   ],
   "source": [
    "protein_char.head()"
   ]
  },
  {
   "cell_type": "code",
   "execution_count": 11,
   "metadata": {},
   "outputs": [
    {
     "name": "stdout",
     "output_type": "stream",
     "text": [
      "<class 'pandas.core.frame.DataFrame'>\n",
      "Index: 127798 entries, 2 to 141400\n",
      "Data columns (total 14 columns):\n",
      " #   Column                    Non-Null Count   Dtype  \n",
      "---  ------                    --------------   -----  \n",
      " 0   structureId               127798 non-null  object \n",
      " 1   classification            127797 non-null  object \n",
      " 2   experimentalTechnique     127798 non-null  object \n",
      " 3   macromoleculeType         127798 non-null  object \n",
      " 4   residueCount              127798 non-null  int64  \n",
      " 5   resolution                117008 non-null  float64\n",
      " 6   structureMolecularWeight  127798 non-null  float64\n",
      " 7   crystallizationMethod     87667 non-null   object \n",
      " 8   crystallizationTempK      88638 non-null   float64\n",
      " 9   densityMatthews           114341 non-null  float64\n",
      " 10  densityPercentSol         114362 non-null  float64\n",
      " 11  pdbxDetails               108296 non-null  object \n",
      " 12  phValue                   95902 non-null   float64\n",
      " 13  publicationYear           105931 non-null  float64\n",
      "dtypes: float64(7), int64(1), object(6)\n",
      "memory usage: 14.6+ MB\n"
     ]
    }
   ],
   "source": [
    "protein_char.info()"
   ]
  },
  {
   "cell_type": "code",
   "execution_count": 12,
   "metadata": {
    "colab": {
     "base_uri": "https://localhost:8080/",
     "height": 221
    },
    "executionInfo": {
     "elapsed": 27,
     "status": "ok",
     "timestamp": 1745215792537,
     "user": {
      "displayName": "Edgardo Galán Vásquez",
      "userId": "05594155599386609537"
     },
     "user_tz": 360
    },
    "id": "bNfVhaDtrsII",
    "outputId": "06290699-8a8f-48b7-d4e9-f62812ecb2e4"
   },
   "outputs": [
    {
     "data": {
      "text/html": [
       "<div>\n",
       "<style scoped>\n",
       "    .dataframe tbody tr th:only-of-type {\n",
       "        vertical-align: middle;\n",
       "    }\n",
       "\n",
       "    .dataframe tbody tr th {\n",
       "        vertical-align: top;\n",
       "    }\n",
       "\n",
       "    .dataframe thead th {\n",
       "        text-align: right;\n",
       "    }\n",
       "</style>\n",
       "<table border=\"1\" class=\"dataframe\">\n",
       "  <thead>\n",
       "    <tr style=\"text-align: right;\">\n",
       "      <th></th>\n",
       "      <th>structureId</th>\n",
       "      <th>chainId</th>\n",
       "      <th>sequence</th>\n",
       "      <th>residueCount</th>\n",
       "      <th>macromoleculeType</th>\n",
       "    </tr>\n",
       "  </thead>\n",
       "  <tbody>\n",
       "    <tr>\n",
       "      <th>4</th>\n",
       "      <td>101M</td>\n",
       "      <td>A</td>\n",
       "      <td>MVLSEGEWQLVLHVWAKVEADVAGHGQDILIRLFKSHPETLEKFDR...</td>\n",
       "      <td>154</td>\n",
       "      <td>Protein</td>\n",
       "    </tr>\n",
       "    <tr>\n",
       "      <th>7</th>\n",
       "      <td>102L</td>\n",
       "      <td>A</td>\n",
       "      <td>MNIFEMLRIDEGLRLKIYKDTEGYYTIGIGHLLTKSPSLNAAAKSE...</td>\n",
       "      <td>165</td>\n",
       "      <td>Protein</td>\n",
       "    </tr>\n",
       "    <tr>\n",
       "      <th>8</th>\n",
       "      <td>102M</td>\n",
       "      <td>A</td>\n",
       "      <td>MVLSEGEWQLVLHVWAKVEADVAGHGQDILIRLFKSHPETLEKFDR...</td>\n",
       "      <td>154</td>\n",
       "      <td>Protein</td>\n",
       "    </tr>\n",
       "    <tr>\n",
       "      <th>11</th>\n",
       "      <td>103L</td>\n",
       "      <td>A</td>\n",
       "      <td>MNIFEMLRIDEGLRLKIYKDTEGYYTIGIGHLLTKSPSLNSLDAAK...</td>\n",
       "      <td>167</td>\n",
       "      <td>Protein</td>\n",
       "    </tr>\n",
       "    <tr>\n",
       "      <th>12</th>\n",
       "      <td>103M</td>\n",
       "      <td>A</td>\n",
       "      <td>MVLSEGEWQLVLHVWAKVEADVAGHGQDILIRLFKSHPETLEKFDR...</td>\n",
       "      <td>154</td>\n",
       "      <td>Protein</td>\n",
       "    </tr>\n",
       "  </tbody>\n",
       "</table>\n",
       "</div>"
      ],
      "text/plain": [
       "   structureId chainId                                           sequence  \\\n",
       "4         101M       A  MVLSEGEWQLVLHVWAKVEADVAGHGQDILIRLFKSHPETLEKFDR...   \n",
       "7         102L       A  MNIFEMLRIDEGLRLKIYKDTEGYYTIGIGHLLTKSPSLNAAAKSE...   \n",
       "8         102M       A  MVLSEGEWQLVLHVWAKVEADVAGHGQDILIRLFKSHPETLEKFDR...   \n",
       "11        103L       A  MNIFEMLRIDEGLRLKIYKDTEGYYTIGIGHLLTKSPSLNSLDAAK...   \n",
       "12        103M       A  MVLSEGEWQLVLHVWAKVEADVAGHGQDILIRLFKSHPETLEKFDR...   \n",
       "\n",
       "    residueCount macromoleculeType  \n",
       "4            154           Protein  \n",
       "7            165           Protein  \n",
       "8            154           Protein  \n",
       "11           167           Protein  \n",
       "12           154           Protein  "
      ]
     },
     "execution_count": 12,
     "metadata": {},
     "output_type": "execute_result"
    }
   ],
   "source": [
    "protein_seq.head()"
   ]
  },
  {
   "cell_type": "code",
   "execution_count": 13,
   "metadata": {
    "colab": {
     "base_uri": "https://localhost:8080/",
     "height": 405
    },
    "executionInfo": {
     "elapsed": 1290,
     "status": "ok",
     "timestamp": 1745215794535,
     "user": {
      "displayName": "Edgardo Galán Vásquez",
      "userId": "05594155599386609537"
     },
     "user_tz": 360
    },
    "id": "pBL5ARWJsWOw",
    "outputId": "3f0873fa-16be-49b4-bc99-ebadfc783f6e"
   },
   "outputs": [
    {
     "data": {
      "text/html": [
       "<div>\n",
       "<style scoped>\n",
       "    .dataframe tbody tr th:only-of-type {\n",
       "        vertical-align: middle;\n",
       "    }\n",
       "\n",
       "    .dataframe tbody tr th {\n",
       "        vertical-align: top;\n",
       "    }\n",
       "\n",
       "    .dataframe thead th {\n",
       "        text-align: right;\n",
       "    }\n",
       "</style>\n",
       "<table border=\"1\" class=\"dataframe\">\n",
       "  <thead>\n",
       "    <tr style=\"text-align: right;\">\n",
       "      <th></th>\n",
       "      <th>structureId</th>\n",
       "      <th>chainId</th>\n",
       "      <th>sequence</th>\n",
       "      <th>residueCount</th>\n",
       "      <th>macromoleculeType</th>\n",
       "    </tr>\n",
       "  </thead>\n",
       "  <tbody>\n",
       "    <tr>\n",
       "      <th>count</th>\n",
       "      <td>345180</td>\n",
       "      <td>345178</td>\n",
       "      <td>345177</td>\n",
       "      <td>345180.000000</td>\n",
       "      <td>345180</td>\n",
       "    </tr>\n",
       "    <tr>\n",
       "      <th>unique</th>\n",
       "      <td>127387</td>\n",
       "      <td>2348</td>\n",
       "      <td>89083</td>\n",
       "      <td>NaN</td>\n",
       "      <td>1</td>\n",
       "    </tr>\n",
       "    <tr>\n",
       "      <th>top</th>\n",
       "      <td>3J3Q</td>\n",
       "      <td>A</td>\n",
       "      <td>PIVQNLQGQMVHQAISPRTLNAWVKVVEEKAFSPEVIPMFSALSEG...</td>\n",
       "      <td>NaN</td>\n",
       "      <td>Protein</td>\n",
       "    </tr>\n",
       "    <tr>\n",
       "      <th>freq</th>\n",
       "      <td>1356</td>\n",
       "      <td>123105</td>\n",
       "      <td>2580</td>\n",
       "      <td>NaN</td>\n",
       "      <td>345180</td>\n",
       "    </tr>\n",
       "    <tr>\n",
       "      <th>mean</th>\n",
       "      <td>NaN</td>\n",
       "      <td>NaN</td>\n",
       "      <td>NaN</td>\n",
       "      <td>4717.870508</td>\n",
       "      <td>NaN</td>\n",
       "    </tr>\n",
       "    <tr>\n",
       "      <th>std</th>\n",
       "      <td>NaN</td>\n",
       "      <td>NaN</td>\n",
       "      <td>NaN</td>\n",
       "      <td>26527.126728</td>\n",
       "      <td>NaN</td>\n",
       "    </tr>\n",
       "    <tr>\n",
       "      <th>min</th>\n",
       "      <td>NaN</td>\n",
       "      <td>NaN</td>\n",
       "      <td>NaN</td>\n",
       "      <td>3.000000</td>\n",
       "      <td>NaN</td>\n",
       "    </tr>\n",
       "    <tr>\n",
       "      <th>25%</th>\n",
       "      <td>NaN</td>\n",
       "      <td>NaN</td>\n",
       "      <td>NaN</td>\n",
       "      <td>398.000000</td>\n",
       "      <td>NaN</td>\n",
       "    </tr>\n",
       "    <tr>\n",
       "      <th>50%</th>\n",
       "      <td>NaN</td>\n",
       "      <td>NaN</td>\n",
       "      <td>NaN</td>\n",
       "      <td>856.000000</td>\n",
       "      <td>NaN</td>\n",
       "    </tr>\n",
       "    <tr>\n",
       "      <th>75%</th>\n",
       "      <td>NaN</td>\n",
       "      <td>NaN</td>\n",
       "      <td>NaN</td>\n",
       "      <td>1976.000000</td>\n",
       "      <td>NaN</td>\n",
       "    </tr>\n",
       "    <tr>\n",
       "      <th>max</th>\n",
       "      <td>NaN</td>\n",
       "      <td>NaN</td>\n",
       "      <td>NaN</td>\n",
       "      <td>313236.000000</td>\n",
       "      <td>NaN</td>\n",
       "    </tr>\n",
       "  </tbody>\n",
       "</table>\n",
       "</div>"
      ],
      "text/plain": [
       "       structureId chainId                                           sequence  \\\n",
       "count       345180  345178                                             345177   \n",
       "unique      127387    2348                                              89083   \n",
       "top           3J3Q       A  PIVQNLQGQMVHQAISPRTLNAWVKVVEEKAFSPEVIPMFSALSEG...   \n",
       "freq          1356  123105                                               2580   \n",
       "mean           NaN     NaN                                                NaN   \n",
       "std            NaN     NaN                                                NaN   \n",
       "min            NaN     NaN                                                NaN   \n",
       "25%            NaN     NaN                                                NaN   \n",
       "50%            NaN     NaN                                                NaN   \n",
       "75%            NaN     NaN                                                NaN   \n",
       "max            NaN     NaN                                                NaN   \n",
       "\n",
       "         residueCount macromoleculeType  \n",
       "count   345180.000000            345180  \n",
       "unique            NaN                 1  \n",
       "top               NaN           Protein  \n",
       "freq              NaN            345180  \n",
       "mean      4717.870508               NaN  \n",
       "std      26527.126728               NaN  \n",
       "min          3.000000               NaN  \n",
       "25%        398.000000               NaN  \n",
       "50%        856.000000               NaN  \n",
       "75%       1976.000000               NaN  \n",
       "max     313236.000000               NaN  "
      ]
     },
     "execution_count": 13,
     "metadata": {},
     "output_type": "execute_result"
    }
   ],
   "source": [
    "protein_seq.describe(include=\"all\")"
   ]
  },
  {
   "cell_type": "code",
   "execution_count": 14,
   "metadata": {
    "colab": {
     "base_uri": "https://localhost:8080/"
    },
    "executionInfo": {
     "elapsed": 10,
     "status": "ok",
     "timestamp": 1745215795708,
     "user": {
      "displayName": "Edgardo Galán Vásquez",
      "userId": "05594155599386609537"
     },
     "user_tz": 360
    },
    "id": "KozYhEDfsWLe",
    "outputId": "b6aad2b5-d283-4bac-8a55-560617c18a31"
   },
   "outputs": [
    {
     "data": {
      "text/plain": [
       "Index(['structureId', 'classification', 'experimentalTechnique',\n",
       "       'macromoleculeType', 'residueCount', 'resolution',\n",
       "       'structureMolecularWeight', 'crystallizationMethod',\n",
       "       'crystallizationTempK', 'densityMatthews', 'densityPercentSol',\n",
       "       'pdbxDetails', 'phValue', 'publicationYear'],\n",
       "      dtype='object')"
      ]
     },
     "execution_count": 14,
     "metadata": {},
     "output_type": "execute_result"
    }
   ],
   "source": [
    "protein_char.columns"
   ]
  },
  {
   "cell_type": "code",
   "execution_count": 15,
   "metadata": {
    "colab": {
     "base_uri": "https://localhost:8080/",
     "height": 221
    },
    "executionInfo": {
     "elapsed": 39,
     "status": "ok",
     "timestamp": 1745215797435,
     "user": {
      "displayName": "Edgardo Galán Vásquez",
      "userId": "05594155599386609537"
     },
     "user_tz": 360
    },
    "id": "dMJncVx3sWI2",
    "outputId": "98c69c8a-f989-408d-f5d1-679d651d43d8"
   },
   "outputs": [
    {
     "data": {
      "text/html": [
       "<div>\n",
       "<style scoped>\n",
       "    .dataframe tbody tr th:only-of-type {\n",
       "        vertical-align: middle;\n",
       "    }\n",
       "\n",
       "    .dataframe tbody tr th {\n",
       "        vertical-align: top;\n",
       "    }\n",
       "\n",
       "    .dataframe thead th {\n",
       "        text-align: right;\n",
       "    }\n",
       "</style>\n",
       "<table border=\"1\" class=\"dataframe\">\n",
       "  <thead>\n",
       "    <tr style=\"text-align: right;\">\n",
       "      <th></th>\n",
       "      <th>structureId</th>\n",
       "      <th>sequence</th>\n",
       "    </tr>\n",
       "  </thead>\n",
       "  <tbody>\n",
       "    <tr>\n",
       "      <th>4</th>\n",
       "      <td>101M</td>\n",
       "      <td>MVLSEGEWQLVLHVWAKVEADVAGHGQDILIRLFKSHPETLEKFDR...</td>\n",
       "    </tr>\n",
       "    <tr>\n",
       "      <th>7</th>\n",
       "      <td>102L</td>\n",
       "      <td>MNIFEMLRIDEGLRLKIYKDTEGYYTIGIGHLLTKSPSLNAAAKSE...</td>\n",
       "    </tr>\n",
       "    <tr>\n",
       "      <th>8</th>\n",
       "      <td>102M</td>\n",
       "      <td>MVLSEGEWQLVLHVWAKVEADVAGHGQDILIRLFKSHPETLEKFDR...</td>\n",
       "    </tr>\n",
       "    <tr>\n",
       "      <th>11</th>\n",
       "      <td>103L</td>\n",
       "      <td>MNIFEMLRIDEGLRLKIYKDTEGYYTIGIGHLLTKSPSLNSLDAAK...</td>\n",
       "    </tr>\n",
       "    <tr>\n",
       "      <th>12</th>\n",
       "      <td>103M</td>\n",
       "      <td>MVLSEGEWQLVLHVWAKVEADVAGHGQDILIRLFKSHPETLEKFDR...</td>\n",
       "    </tr>\n",
       "  </tbody>\n",
       "</table>\n",
       "</div>"
      ],
      "text/plain": [
       "   structureId                                           sequence\n",
       "4         101M  MVLSEGEWQLVLHVWAKVEADVAGHGQDILIRLFKSHPETLEKFDR...\n",
       "7         102L  MNIFEMLRIDEGLRLKIYKDTEGYYTIGIGHLLTKSPSLNAAAKSE...\n",
       "8         102M  MVLSEGEWQLVLHVWAKVEADVAGHGQDILIRLFKSHPETLEKFDR...\n",
       "11        103L  MNIFEMLRIDEGLRLKIYKDTEGYYTIGIGHLLTKSPSLNSLDAAK...\n",
       "12        103M  MVLSEGEWQLVLHVWAKVEADVAGHGQDILIRLFKSHPETLEKFDR..."
      ]
     },
     "execution_count": 15,
     "metadata": {},
     "output_type": "execute_result"
    }
   ],
   "source": [
    "# Select  some variables to join\n",
    "protein_char = protein_char[['structureId','classification','residueCount', 'resolution',\n",
    "       'structureMolecularWeight','crystallizationTempK', 'densityMatthews', 'densityPercentSol', 'phValue']]\n",
    "protein_seq = protein_seq[['structureId','sequence']]\n",
    "protein_seq.head()"
   ]
  },
  {
   "cell_type": "code",
   "execution_count": 16,
   "metadata": {
    "colab": {
     "base_uri": "https://localhost:8080/",
     "height": 304
    },
    "executionInfo": {
     "elapsed": 21,
     "status": "ok",
     "timestamp": 1745215799532,
     "user": {
      "displayName": "Edgardo Galán Vásquez",
      "userId": "05594155599386609537"
     },
     "user_tz": 360
    },
    "id": "IeO4n7PAsV12",
    "outputId": "a09a0733-bae4-4502-c6e6-72414aea713a"
   },
   "outputs": [
    {
     "data": {
      "text/html": [
       "<div>\n",
       "<style scoped>\n",
       "    .dataframe tbody tr th:only-of-type {\n",
       "        vertical-align: middle;\n",
       "    }\n",
       "\n",
       "    .dataframe tbody tr th {\n",
       "        vertical-align: top;\n",
       "    }\n",
       "\n",
       "    .dataframe thead th {\n",
       "        text-align: right;\n",
       "    }\n",
       "</style>\n",
       "<table border=\"1\" class=\"dataframe\">\n",
       "  <thead>\n",
       "    <tr style=\"text-align: right;\">\n",
       "      <th></th>\n",
       "      <th>structureId</th>\n",
       "      <th>classification</th>\n",
       "      <th>residueCount</th>\n",
       "      <th>resolution</th>\n",
       "      <th>structureMolecularWeight</th>\n",
       "      <th>crystallizationTempK</th>\n",
       "      <th>densityMatthews</th>\n",
       "      <th>densityPercentSol</th>\n",
       "      <th>phValue</th>\n",
       "    </tr>\n",
       "  </thead>\n",
       "  <tbody>\n",
       "    <tr>\n",
       "      <th>2</th>\n",
       "      <td>101M</td>\n",
       "      <td>OXYGEN TRANSPORT</td>\n",
       "      <td>154</td>\n",
       "      <td>2.07</td>\n",
       "      <td>18112.80</td>\n",
       "      <td>NaN</td>\n",
       "      <td>3.09</td>\n",
       "      <td>60.20</td>\n",
       "      <td>9.0</td>\n",
       "    </tr>\n",
       "    <tr>\n",
       "      <th>4</th>\n",
       "      <td>102L</td>\n",
       "      <td>HYDROLASE(O-GLYCOSYL)</td>\n",
       "      <td>165</td>\n",
       "      <td>1.74</td>\n",
       "      <td>18926.61</td>\n",
       "      <td>NaN</td>\n",
       "      <td>2.75</td>\n",
       "      <td>55.28</td>\n",
       "      <td>NaN</td>\n",
       "    </tr>\n",
       "    <tr>\n",
       "      <th>5</th>\n",
       "      <td>102M</td>\n",
       "      <td>OXYGEN TRANSPORT</td>\n",
       "      <td>154</td>\n",
       "      <td>1.84</td>\n",
       "      <td>18010.64</td>\n",
       "      <td>NaN</td>\n",
       "      <td>3.09</td>\n",
       "      <td>60.20</td>\n",
       "      <td>9.0</td>\n",
       "    </tr>\n",
       "    <tr>\n",
       "      <th>7</th>\n",
       "      <td>103L</td>\n",
       "      <td>HYDROLASE(O-GLYCOSYL)</td>\n",
       "      <td>167</td>\n",
       "      <td>1.90</td>\n",
       "      <td>19092.72</td>\n",
       "      <td>NaN</td>\n",
       "      <td>2.70</td>\n",
       "      <td>54.46</td>\n",
       "      <td>NaN</td>\n",
       "    </tr>\n",
       "    <tr>\n",
       "      <th>8</th>\n",
       "      <td>103M</td>\n",
       "      <td>OXYGEN TRANSPORT</td>\n",
       "      <td>154</td>\n",
       "      <td>2.07</td>\n",
       "      <td>18093.78</td>\n",
       "      <td>NaN</td>\n",
       "      <td>3.09</td>\n",
       "      <td>60.30</td>\n",
       "      <td>9.0</td>\n",
       "    </tr>\n",
       "  </tbody>\n",
       "</table>\n",
       "</div>"
      ],
      "text/plain": [
       "  structureId         classification  residueCount  resolution  \\\n",
       "2        101M       OXYGEN TRANSPORT           154        2.07   \n",
       "4        102L  HYDROLASE(O-GLYCOSYL)           165        1.74   \n",
       "5        102M       OXYGEN TRANSPORT           154        1.84   \n",
       "7        103L  HYDROLASE(O-GLYCOSYL)           167        1.90   \n",
       "8        103M       OXYGEN TRANSPORT           154        2.07   \n",
       "\n",
       "   structureMolecularWeight  crystallizationTempK  densityMatthews  \\\n",
       "2                  18112.80                   NaN             3.09   \n",
       "4                  18926.61                   NaN             2.75   \n",
       "5                  18010.64                   NaN             3.09   \n",
       "7                  19092.72                   NaN             2.70   \n",
       "8                  18093.78                   NaN             3.09   \n",
       "\n",
       "   densityPercentSol  phValue  \n",
       "2              60.20      9.0  \n",
       "4              55.28      NaN  \n",
       "5              60.20      9.0  \n",
       "7              54.46      NaN  \n",
       "8              60.30      9.0  "
      ]
     },
     "execution_count": 16,
     "metadata": {},
     "output_type": "execute_result"
    }
   ],
   "source": [
    "protein_char.head()"
   ]
  },
  {
   "cell_type": "code",
   "execution_count": 17,
   "metadata": {
    "colab": {
     "base_uri": "https://localhost:8080/",
     "height": 334
    },
    "executionInfo": {
     "elapsed": 553,
     "status": "ok",
     "timestamp": 1745215801024,
     "user": {
      "displayName": "Edgardo Galán Vásquez",
      "userId": "05594155599386609537"
     },
     "user_tz": 360
    },
    "id": "Dvnndi38sVtP",
    "outputId": "7f48bf1d-5780-4f96-d62a-237cfac16899"
   },
   "outputs": [
    {
     "data": {
      "text/html": [
       "<div>\n",
       "<style scoped>\n",
       "    .dataframe tbody tr th:only-of-type {\n",
       "        vertical-align: middle;\n",
       "    }\n",
       "\n",
       "    .dataframe tbody tr th {\n",
       "        vertical-align: top;\n",
       "    }\n",
       "\n",
       "    .dataframe thead th {\n",
       "        text-align: right;\n",
       "    }\n",
       "</style>\n",
       "<table border=\"1\" class=\"dataframe\">\n",
       "  <thead>\n",
       "    <tr style=\"text-align: right;\">\n",
       "      <th></th>\n",
       "      <th>classification</th>\n",
       "      <th>residueCount</th>\n",
       "      <th>resolution</th>\n",
       "      <th>structureMolecularWeight</th>\n",
       "      <th>crystallizationTempK</th>\n",
       "      <th>densityMatthews</th>\n",
       "      <th>densityPercentSol</th>\n",
       "      <th>phValue</th>\n",
       "      <th>sequence</th>\n",
       "    </tr>\n",
       "    <tr>\n",
       "      <th>structureId</th>\n",
       "      <th></th>\n",
       "      <th></th>\n",
       "      <th></th>\n",
       "      <th></th>\n",
       "      <th></th>\n",
       "      <th></th>\n",
       "      <th></th>\n",
       "      <th></th>\n",
       "      <th></th>\n",
       "    </tr>\n",
       "  </thead>\n",
       "  <tbody>\n",
       "    <tr>\n",
       "      <th>101M</th>\n",
       "      <td>OXYGEN TRANSPORT</td>\n",
       "      <td>154</td>\n",
       "      <td>2.07</td>\n",
       "      <td>18112.80</td>\n",
       "      <td>NaN</td>\n",
       "      <td>3.09</td>\n",
       "      <td>60.20</td>\n",
       "      <td>9.0</td>\n",
       "      <td>MVLSEGEWQLVLHVWAKVEADVAGHGQDILIRLFKSHPETLEKFDR...</td>\n",
       "    </tr>\n",
       "    <tr>\n",
       "      <th>102L</th>\n",
       "      <td>HYDROLASE(O-GLYCOSYL)</td>\n",
       "      <td>165</td>\n",
       "      <td>1.74</td>\n",
       "      <td>18926.61</td>\n",
       "      <td>NaN</td>\n",
       "      <td>2.75</td>\n",
       "      <td>55.28</td>\n",
       "      <td>NaN</td>\n",
       "      <td>MNIFEMLRIDEGLRLKIYKDTEGYYTIGIGHLLTKSPSLNAAAKSE...</td>\n",
       "    </tr>\n",
       "    <tr>\n",
       "      <th>102M</th>\n",
       "      <td>OXYGEN TRANSPORT</td>\n",
       "      <td>154</td>\n",
       "      <td>1.84</td>\n",
       "      <td>18010.64</td>\n",
       "      <td>NaN</td>\n",
       "      <td>3.09</td>\n",
       "      <td>60.20</td>\n",
       "      <td>9.0</td>\n",
       "      <td>MVLSEGEWQLVLHVWAKVEADVAGHGQDILIRLFKSHPETLEKFDR...</td>\n",
       "    </tr>\n",
       "    <tr>\n",
       "      <th>103L</th>\n",
       "      <td>HYDROLASE(O-GLYCOSYL)</td>\n",
       "      <td>167</td>\n",
       "      <td>1.90</td>\n",
       "      <td>19092.72</td>\n",
       "      <td>NaN</td>\n",
       "      <td>2.70</td>\n",
       "      <td>54.46</td>\n",
       "      <td>NaN</td>\n",
       "      <td>MNIFEMLRIDEGLRLKIYKDTEGYYTIGIGHLLTKSPSLNSLDAAK...</td>\n",
       "    </tr>\n",
       "    <tr>\n",
       "      <th>103M</th>\n",
       "      <td>OXYGEN TRANSPORT</td>\n",
       "      <td>154</td>\n",
       "      <td>2.07</td>\n",
       "      <td>18093.78</td>\n",
       "      <td>NaN</td>\n",
       "      <td>3.09</td>\n",
       "      <td>60.30</td>\n",
       "      <td>9.0</td>\n",
       "      <td>MVLSEGEWQLVLHVWAKVEADVAGHGQDILIRLFKSHPETLEKFDR...</td>\n",
       "    </tr>\n",
       "  </tbody>\n",
       "</table>\n",
       "</div>"
      ],
      "text/plain": [
       "                    classification  residueCount  resolution  \\\n",
       "structureId                                                    \n",
       "101M              OXYGEN TRANSPORT           154        2.07   \n",
       "102L         HYDROLASE(O-GLYCOSYL)           165        1.74   \n",
       "102M              OXYGEN TRANSPORT           154        1.84   \n",
       "103L         HYDROLASE(O-GLYCOSYL)           167        1.90   \n",
       "103M              OXYGEN TRANSPORT           154        2.07   \n",
       "\n",
       "             structureMolecularWeight  crystallizationTempK  densityMatthews  \\\n",
       "structureId                                                                    \n",
       "101M                         18112.80                   NaN             3.09   \n",
       "102L                         18926.61                   NaN             2.75   \n",
       "102M                         18010.64                   NaN             3.09   \n",
       "103L                         19092.72                   NaN             2.70   \n",
       "103M                         18093.78                   NaN             3.09   \n",
       "\n",
       "             densityPercentSol  phValue  \\\n",
       "structureId                               \n",
       "101M                     60.20      9.0   \n",
       "102L                     55.28      NaN   \n",
       "102M                     60.20      9.0   \n",
       "103L                     54.46      NaN   \n",
       "103M                     60.30      9.0   \n",
       "\n",
       "                                                      sequence  \n",
       "structureId                                                     \n",
       "101M         MVLSEGEWQLVLHVWAKVEADVAGHGQDILIRLFKSHPETLEKFDR...  \n",
       "102L         MNIFEMLRIDEGLRLKIYKDTEGYYTIGIGHLLTKSPSLNAAAKSE...  \n",
       "102M         MVLSEGEWQLVLHVWAKVEADVAGHGQDILIRLFKSHPETLEKFDR...  \n",
       "103L         MNIFEMLRIDEGLRLKIYKDTEGYYTIGIGHLLTKSPSLNSLDAAK...  \n",
       "103M         MVLSEGEWQLVLHVWAKVEADVAGHGQDILIRLFKSHPETLEKFDR...  "
      ]
     },
     "execution_count": 17,
     "metadata": {},
     "output_type": "execute_result"
    }
   ],
   "source": [
    "# Join two datasets on structureId\n",
    "model_f = protein_char.set_index('structureId').join(protein_seq.set_index('structureId'))\n",
    "model_f.head()"
   ]
  },
  {
   "cell_type": "code",
   "execution_count": 18,
   "metadata": {
    "colab": {
     "base_uri": "https://localhost:8080/"
    },
    "executionInfo": {
     "elapsed": 42,
     "status": "ok",
     "timestamp": 1745215805144,
     "user": {
      "displayName": "Edgardo Galán Vásquez",
      "userId": "05594155599386609537"
     },
     "user_tz": 360
    },
    "id": "HjoCDgnUswdn",
    "outputId": "c7ef7a5d-9378-482a-9f6a-554a659cdd5b"
   },
   "outputs": [
    {
     "name": "stdout",
     "output_type": "stream",
     "text": [
      "346325 is the number of rows in the joined dataset\n"
     ]
    }
   ],
   "source": [
    "print('%d is the number of rows in the joined dataset' %model_f.shape[0])"
   ]
  },
  {
   "cell_type": "code",
   "execution_count": 19,
   "metadata": {
    "colab": {
     "base_uri": "https://localhost:8080/",
     "height": 376
    },
    "executionInfo": {
     "elapsed": 53,
     "status": "ok",
     "timestamp": 1745215806136,
     "user": {
      "displayName": "Edgardo Galán Vásquez",
      "userId": "05594155599386609537"
     },
     "user_tz": 360
    },
    "id": "puF1Vmz-szbd",
    "outputId": "5ed66171-dd1d-4b68-90ce-a00f189d7b1a"
   },
   "outputs": [
    {
     "data": {
      "text/plain": [
       "classification                   1\n",
       "residueCount                     0\n",
       "resolution                   16093\n",
       "structureMolecularWeight         0\n",
       "crystallizationTempK        102391\n",
       "densityMatthews              38844\n",
       "densityPercentSol            38710\n",
       "phValue                      87195\n",
       "sequence                         3\n",
       "dtype: int64"
      ]
     },
     "execution_count": 19,
     "metadata": {},
     "output_type": "execute_result"
    }
   ],
   "source": [
    "# Check NA counts\n",
    "model_f.isnull().sum()"
   ]
  },
  {
   "cell_type": "code",
   "execution_count": 20,
   "metadata": {
    "colab": {
     "base_uri": "https://localhost:8080/"
    },
    "executionInfo": {
     "elapsed": 90,
     "status": "ok",
     "timestamp": 1745215809110,
     "user": {
      "displayName": "Edgardo Galán Vásquez",
      "userId": "05594155599386609537"
     },
     "user_tz": 360
    },
    "id": "JED17nGKs7Nv",
    "outputId": "59aa505a-3bad-41fa-b404-3321f8966ecd"
   },
   "outputs": [
    {
     "name": "stdout",
     "output_type": "stream",
     "text": [
      "214106 is the number of proteins that have a classification and sequence\n"
     ]
    }
   ],
   "source": [
    "# Drop rows with missing values\n",
    "model_f = model_f.dropna()\n",
    "print('%d is the number of proteins that have a classification and sequence' %model_f.shape[0])"
   ]
  },
  {
   "cell_type": "code",
   "execution_count": 21,
   "metadata": {
    "colab": {
     "base_uri": "https://localhost:8080/",
     "height": 889
    },
    "executionInfo": {
     "elapsed": 273,
     "status": "ok",
     "timestamp": 1745215810957,
     "user": {
      "displayName": "Edgardo Galán Vásquez",
      "userId": "05594155599386609537"
     },
     "user_tz": 360
    },
    "id": "2ID8NiSjtA9A",
    "outputId": "02947220-b82d-4aad-da2f-4161059de427"
   },
   "outputs": [
    {
     "name": "stdout",
     "output_type": "stream",
     "text": [
      "classification\n",
      "HYDROLASE                        29726\n",
      "TRANSFERASE                      24338\n",
      "OXIDOREDUCTASE                   22578\n",
      "IMMUNE SYSTEM                    11087\n",
      "HYDROLASE/HYDROLASE INHIBITOR     9569\n",
      "                                 ...  \n",
      "Oxidoreductase, hydrolase            1\n",
      "TRANSCARBAMYLASE                     1\n",
      "TUMOR SUPPRESSOR                     1\n",
      "ALU DOMAIN                           1\n",
      "lipid transport/activator            1\n",
      "Name: count, Length: 2458, dtype: int64\n"
     ]
    },
    {
     "name": "stderr",
     "output_type": "stream",
     "text": [
      "/tmp/ipykernel_734048/467189256.py:7: UserWarning: \n",
      "\n",
      "`distplot` is a deprecated function and will be removed in seaborn v0.14.0.\n",
      "\n",
      "Please adapt your code to use either `displot` (a figure-level function with\n",
      "similar flexibility) or `kdeplot` (an axes-level function for kernel density plots).\n",
      "\n",
      "For a guide to updating your code to use the new functions, please see\n",
      "https://gist.github.com/mwaskom/de44147ed2974457ad6372750bbe5751\n",
      "\n",
      "  sns.distplot(counts, hist = False, color = 'purple')\n"
     ]
    },
    {
     "data": {
      "image/png": "[encoded data removed]",
      "text/plain": [
       "<Figure size 640x480 with 1 Axes>"
      ]
     },
     "metadata": {},
     "output_type": "display_data"
    }
   ],
   "source": [
    "# Look at classification type counts\n",
    "counts = model_f.classification.value_counts()\n",
    "print(counts)\n",
    "\n",
    "#plot counts\n",
    "plt.figure()\n",
    "sns.distplot(counts, hist = False, color = 'purple')\n",
    "plt.title('Count Distribution for Family Types')\n",
    "plt.ylabel('% of records')\n",
    "plt.show()"
   ]
  },
  {
   "cell_type": "code",
   "execution_count": 22,
   "metadata": {
    "colab": {
     "base_uri": "https://localhost:8080/"
    },
    "executionInfo": {
     "elapsed": 290,
     "status": "ok",
     "timestamp": 1745215814292,
     "user": {
      "displayName": "Edgardo Galán Vásquez",
      "userId": "05594155599386609537"
     },
     "user_tz": 360
    },
    "id": "WMNCT-dntNGj",
    "outputId": "997109b0-e586-44b3-e795-583675e3013d"
   },
   "outputs": [
    {
     "name": "stdout",
     "output_type": "stream",
     "text": [
      "32\n",
      "['HYDROLASE' 'TRANSFERASE' 'OXIDOREDUCTASE' 'IMMUNE SYSTEM'\n",
      " 'HYDROLASE/HYDROLASE INHIBITOR' 'LYASE' 'TRANSCRIPTION'\n",
      " 'TRANSPORT PROTEIN' 'ISOMERASE' 'VIRAL PROTEIN' 'SIGNALING PROTEIN'\n",
      " 'LIGASE' 'PROTEIN BINDING' 'STRUCTURAL GENOMICS, UNKNOWN FUNCTION'\n",
      " 'TRANSFERASE/TRANSFERASE INHIBITOR' 'MEMBRANE PROTEIN'\n",
      " 'SUGAR BINDING PROTEIN' 'UNKNOWN FUNCTION' 'DNA BINDING PROTEIN'\n",
      " 'CHAPERONE' 'STRUCTURAL PROTEIN' 'METAL BINDING PROTEIN' 'CELL ADHESION'\n",
      " 'ELECTRON TRANSPORT' 'PROTEIN TRANSPORT'\n",
      " 'OXIDOREDUCTASE/OXIDOREDUCTASE INHIBITOR' 'TOXIN' 'RNA BINDING PROTEIN'\n",
      " 'CELL CYCLE' 'PHOTOSYNTHESIS' 'GENE REGULATION' 'DE NOVO PROTEIN']\n",
      "46422 is the number of records in the final filtered dataset\n"
     ]
    }
   ],
   "source": [
    "# Get classification types where counts are over 1000\n",
    "types = np.asarray(counts[(counts > 1000)].index)\n",
    "print(len(types))\n",
    "# Filter dataset's records for classification types > 1000\n",
    "data = model_f[model_f.classification.isin(types)]\n",
    "data = data.drop_duplicates(subset=[\"classification\",\"sequence\"])  # leaving more rows results in duplciates / index related?\n",
    "\n",
    "print(types)\n",
    "print('%d is the number of records in the final filtered dataset' %data.shape[0])"
   ]
  },
  {
   "cell_type": "code",
   "execution_count": 23,
   "metadata": {
    "colab": {
     "base_uri": "https://localhost:8080/"
    },
    "executionInfo": {
     "elapsed": 68,
     "status": "ok",
     "timestamp": 1745215815688,
     "user": {
      "displayName": "Edgardo Galán Vásquez",
      "userId": "05594155599386609537"
     },
     "user_tz": 360
    },
    "id": "8Ic4T0WrtND9",
    "outputId": "b46528ad-8b32-4767-e3e8-bba6f2daa5fa"
   },
   "outputs": [
    {
     "data": {
      "text/plain": [
       "(46422, 9)"
      ]
     },
     "execution_count": 23,
     "metadata": {},
     "output_type": "execute_result"
    }
   ],
   "source": [
    "data = data.drop_duplicates(subset=[\"classification\",\"sequence\"])\n",
    "data.shape"
   ]
  },
  {
   "cell_type": "code",
   "execution_count": 24,
   "metadata": {
    "id": "tv8EQrqotNBs"
   },
   "outputs": [],
   "source": [
    "## Could add n-grams\n",
    "## https://stackoverflow.com/questions/18658106/quick-implementation-of-character-n-grams-using-python\n",
    "# jump_size !=1 -> less overlap in n-grams.\n",
    "def char_grams(text,n=3,jump_size=2):\n",
    "    return [text[i:i+n] for i in range(0,len(text)-n+1,jump_size)]"
   ]
  },
  {
   "cell_type": "code",
   "execution_count": 25,
   "metadata": {
    "colab": {
     "base_uri": "https://localhost:8080/",
     "height": 224
    },
    "executionInfo": {
     "elapsed": 5,
     "status": "ok",
     "timestamp": 1745215818246,
     "user": {
      "displayName": "Edgardo Galán Vásquez",
      "userId": "05594155599386609537"
     },
     "user_tz": 360
    },
    "id": "yrIUjcpatM-C",
    "outputId": "aeaef021-f6ba-4878-f1bb-ee8bdd47479a"
   },
   "outputs": [
    {
     "data": {
      "text/plain": [
       "structureId\n",
       "1A4S    [AQL, LVD, DSM, MPS, SAS, STG, GSV, VVV, VTD, ...\n",
       "1A6Q    [MGA, AFL, LDK, KPK, KME, EKH, HNA, AQG, GQG, ...\n",
       "1A72    [STA, AGK, KVI, IKC, CKA, AAV, VLW, WEE, EKK, ...\n",
       "Name: sequence, dtype: object"
      ]
     },
     "execution_count": 25,
     "metadata": {},
     "output_type": "execute_result"
    }
   ],
   "source": [
    "data.head(3).sequence.apply(char_grams)"
   ]
  },
  {
   "cell_type": "code",
   "execution_count": 26,
   "metadata": {
    "id": "1cXFdndGtcqx"
   },
   "outputs": [],
   "source": [
    "data[\"3mers\"] = data.sequence.apply(char_grams)"
   ]
  },
  {
   "cell_type": "code",
   "execution_count": 27,
   "metadata": {
    "colab": {
     "base_uri": "https://localhost:8080/",
     "height": 979
    },
    "executionInfo": {
     "elapsed": 34,
     "status": "ok",
     "timestamp": 1745215823345,
     "user": {
      "displayName": "Edgardo Galán Vásquez",
      "userId": "05594155599386609537"
     },
     "user_tz": 360
    },
    "id": "PqNc3pNNtcoO",
    "outputId": "b4635e6b-7c0b-4536-dda2-241fa7ea4821"
   },
   "outputs": [
    {
     "data": {
      "text/html": [
       "<div>\n",
       "<style scoped>\n",
       "    .dataframe tbody tr th:only-of-type {\n",
       "        vertical-align: middle;\n",
       "    }\n",
       "\n",
       "    .dataframe tbody tr th {\n",
       "        vertical-align: top;\n",
       "    }\n",
       "\n",
       "    .dataframe thead th {\n",
       "        text-align: right;\n",
       "    }\n",
       "</style>\n",
       "<table border=\"1\" class=\"dataframe\">\n",
       "  <thead>\n",
       "    <tr style=\"text-align: right;\">\n",
       "      <th></th>\n",
       "      <th>classification</th>\n",
       "      <th>residueCount</th>\n",
       "      <th>resolution</th>\n",
       "      <th>structureMolecularWeight</th>\n",
       "      <th>crystallizationTempK</th>\n",
       "      <th>densityMatthews</th>\n",
       "      <th>densityPercentSol</th>\n",
       "      <th>phValue</th>\n",
       "      <th>sequence</th>\n",
       "      <th>3mers</th>\n",
       "    </tr>\n",
       "    <tr>\n",
       "      <th>structureId</th>\n",
       "      <th></th>\n",
       "      <th></th>\n",
       "      <th></th>\n",
       "      <th></th>\n",
       "      <th></th>\n",
       "      <th></th>\n",
       "      <th></th>\n",
       "      <th></th>\n",
       "      <th></th>\n",
       "      <th></th>\n",
       "    </tr>\n",
       "  </thead>\n",
       "  <tbody>\n",
       "    <tr>\n",
       "      <th>6FFL</th>\n",
       "      <td>SUGAR BINDING PROTEIN</td>\n",
       "      <td>388</td>\n",
       "      <td>1.71</td>\n",
       "      <td>44992.17</td>\n",
       "      <td>291.0</td>\n",
       "      <td>2.59</td>\n",
       "      <td>53.00</td>\n",
       "      <td>5.5</td>\n",
       "      <td>EDVRIQIWHQMIYGHRQVLAEALEKFEKENPGITVQATYRETEELR...</td>\n",
       "      <td>[EDV, VRI, IQI, IWH, HQM, MIY, YGH, HRQ, QVL, ...</td>\n",
       "    </tr>\n",
       "    <tr>\n",
       "      <th>6FG7</th>\n",
       "      <td>PROTEIN BINDING</td>\n",
       "      <td>500</td>\n",
       "      <td>1.90</td>\n",
       "      <td>56392.64</td>\n",
       "      <td>298.0</td>\n",
       "      <td>3.39</td>\n",
       "      <td>63.68</td>\n",
       "      <td>4.0</td>\n",
       "      <td>MKEIGSKPRKLLPLCFIIFLCFCSSVMAADEDDIRCLRGLKASLTD...</td>\n",
       "      <td>[MKE, EIG, GSK, KPR, RKL, LLP, PLC, CFI, IIF, ...</td>\n",
       "    </tr>\n",
       "    <tr>\n",
       "      <th>6FG8</th>\n",
       "      <td>PROTEIN BINDING</td>\n",
       "      <td>506</td>\n",
       "      <td>1.25</td>\n",
       "      <td>58478.36</td>\n",
       "      <td>298.0</td>\n",
       "      <td>1.86</td>\n",
       "      <td>33.78</td>\n",
       "      <td>5.5</td>\n",
       "      <td>MTRLTVLALLAGLLASSRAGSSMASANLEGDALHTLRVTLVDPNNV...</td>\n",
       "      <td>[MTR, RLT, TVL, LAL, LLA, AGL, LLA, ASS, SRA, ...</td>\n",
       "    </tr>\n",
       "    <tr>\n",
       "      <th>6FG8</th>\n",
       "      <td>PROTEIN BINDING</td>\n",
       "      <td>506</td>\n",
       "      <td>1.25</td>\n",
       "      <td>58478.36</td>\n",
       "      <td>298.0</td>\n",
       "      <td>1.86</td>\n",
       "      <td>33.78</td>\n",
       "      <td>5.5</td>\n",
       "      <td>MKKIFITLLWLLFISSFLCSSSSAEDDVLCLQGLKNSLIDPSSRLS...</td>\n",
       "      <td>[MKK, KIF, FIT, TLL, LWL, LLF, FIS, SSF, FLC, ...</td>\n",
       "    </tr>\n",
       "    <tr>\n",
       "      <th>6FIF</th>\n",
       "      <td>PROTEIN BINDING</td>\n",
       "      <td>837</td>\n",
       "      <td>2.54</td>\n",
       "      <td>93918.31</td>\n",
       "      <td>298.0</td>\n",
       "      <td>3.32</td>\n",
       "      <td>62.96</td>\n",
       "      <td>4.0</td>\n",
       "      <td>MKTFSSFFLSVTTLFFFSFFSLSFQASPSQSLYREIHQLISFKDVL...</td>\n",
       "      <td>[MKT, TFS, SSF, FFL, LSV, VTT, TLF, FFF, FSF, ...</td>\n",
       "    </tr>\n",
       "  </tbody>\n",
       "</table>\n",
       "</div>"
      ],
      "text/plain": [
       "                    classification  residueCount  resolution  \\\n",
       "structureId                                                    \n",
       "6FFL         SUGAR BINDING PROTEIN           388        1.71   \n",
       "6FG7               PROTEIN BINDING           500        1.90   \n",
       "6FG8               PROTEIN BINDING           506        1.25   \n",
       "6FG8               PROTEIN BINDING           506        1.25   \n",
       "6FIF               PROTEIN BINDING           837        2.54   \n",
       "\n",
       "             structureMolecularWeight  crystallizationTempK  densityMatthews  \\\n",
       "structureId                                                                    \n",
       "6FFL                         44992.17                 291.0             2.59   \n",
       "6FG7                         56392.64                 298.0             3.39   \n",
       "6FG8                         58478.36                 298.0             1.86   \n",
       "6FG8                         58478.36                 298.0             1.86   \n",
       "6FIF                         93918.31                 298.0             3.32   \n",
       "\n",
       "             densityPercentSol  phValue  \\\n",
       "structureId                               \n",
       "6FFL                     53.00      5.5   \n",
       "6FG7                     63.68      4.0   \n",
       "6FG8                     33.78      5.5   \n",
       "6FG8                     33.78      5.5   \n",
       "6FIF                     62.96      4.0   \n",
       "\n",
       "                                                      sequence  \\\n",
       "structureId                                                      \n",
       "6FFL         EDVRIQIWHQMIYGHRQVLAEALEKFEKENPGITVQATYRETEELR...   \n",
       "6FG7         MKEIGSKPRKLLPLCFIIFLCFCSSVMAADEDDIRCLRGLKASLTD...   \n",
       "6FG8         MTRLTVLALLAGLLASSRAGSSMASANLEGDALHTLRVTLVDPNNV...   \n",
       "6FG8         MKKIFITLLWLLFISSFLCSSSSAEDDVLCLQGLKNSLIDPSSRLS...   \n",
       "6FIF         MKTFSSFFLSVTTLFFFSFFSLSFQASPSQSLYREIHQLISFKDVL...   \n",
       "\n",
       "                                                         3mers  \n",
       "structureId                                                     \n",
       "6FFL         [EDV, VRI, IQI, IWH, HQM, MIY, YGH, HRQ, QVL, ...  \n",
       "6FG7         [MKE, EIG, GSK, KPR, RKL, LLP, PLC, CFI, IIF, ...  \n",
       "6FG8         [MTR, RLT, TVL, LAL, LLA, AGL, LLA, ASS, SRA, ...  \n",
       "6FG8         [MKK, KIF, FIT, TLL, LWL, LLF, FIS, SSF, FLC, ...  \n",
       "6FIF         [MKT, TFS, SSF, FFL, LSV, VTT, TLF, FFF, FSF, ...  "
      ]
     },
     "execution_count": 27,
     "metadata": {},
     "output_type": "execute_result"
    }
   ],
   "source": [
    "data.tail()"
   ]
  },
  {
   "cell_type": "code",
   "execution_count": 28,
   "metadata": {
    "id": "j_7fAfbqtclc"
   },
   "outputs": [],
   "source": [
    "data.to_csv(\"protein_classification_46k_ngrams.csv.gz\",compression=\"gzip\")"
   ]
  },
  {
   "cell_type": "code",
   "execution_count": 29,
   "metadata": {
    "colab": {
     "base_uri": "https://localhost:8080/"
    },
    "executionInfo": {
     "elapsed": 27941,
     "status": "ok",
     "timestamp": 1745215907726,
     "user": {
      "displayName": "Edgardo Galán Vásquez",
      "userId": "05594155599386609537"
     },
     "user_tz": 360
    },
    "id": "g1vffB4Mtcil",
    "outputId": "66e30602-1608-490b-b762-7ce6c2076723"
   },
   "outputs": [
    {
     "name": "stdout",
     "output_type": "stream",
     "text": [
      "['zhhh' 'ziar' 'zigi' 'ziwz' 'zkal' 'zkky' 'zknt' 'zkyh' 'zlik' 'zlzk'\n",
      " 'zpvm' 'zrgd' 'zrvi' 'ztvl' 'ztzk' 'zvbd' 'zvib' 'zvka' 'zwdl' 'zzvb']\n"
     ]
    }
   ],
   "source": [
    "# 3). ----- Train Test Split -----\n",
    "\n",
    "# Split Data\n",
    "X_train, X_test,y_train,y_test = train_test_split(data['sequence'], data['classification'], test_size = 0.2, random_state = 1)\n",
    "\n",
    "# Create a Count Vectorizer to gather the unique elements in sequence\n",
    "vect = CountVectorizer(analyzer = 'char', ngram_range = (4,4))\n",
    "\n",
    "# Fit and Transform CountVectorizer\n",
    "vect.fit(X_train)\n",
    "X_train_df = vect.transform(X_train)\n",
    "X_test_df = vect.transform(X_test)\n",
    "\n",
    "#Print a few of the features\n",
    "print(vect.get_feature_names_out()[-20:])"
   ]
  },
  {
   "cell_type": "code",
   "execution_count": null,
   "metadata": {
    "id": "wR0VeiUUu2ED"
   },
   "outputs": [],
   "source": []
  },
  {
   "cell_type": "code",
   "execution_count": null,
   "metadata": {
    "colab": {
     "background_save": true
    },
    "id": "XI86ZmEbuhw8",
    "outputId": "81eeb9b7-0c66-4f3e-8d35-0a3c6c321e1b"
   },
   "outputs": [],
   "source": [
    "from sklearn.svm import SVC\n",
    "model = SVC()\n",
    "model.fit(X_train_df,y_train)"
   ]
  },
  {
   "cell_type": "code",
   "execution_count": null,
   "metadata": {
    "id": "E879bvXTvJvk"
   },
   "outputs": [],
   "source": [
    "preds = model.predict(X_test_df)\n",
    "from sklearn.metrics import classification_report,confusion_matrix\n",
    "print(confusion_matrix(y_test,preds))\n",
    "print('\\n')\n",
    "print(classification_report(y_test,preds))"
   ]
  },
  {
   "cell_type": "code",
   "execution_count": null,
   "metadata": {
    "id": "ROC5sVOMusO9"
   },
   "outputs": [],
   "source": []
  },
  {
   "cell_type": "code",
   "execution_count": null,
   "metadata": {},
   "outputs": [],
   "source": []
  }
 ],
 "metadata": {
  "colab": {
   "authorship_tag": "ABX9TyO5R1/jheDtU3xWSXg9k6iM",
   "provenance": []
  },
  "kernelspec": {
   "display_name": "Python 3 (ipykernel)",
   "language": "python",
   "name": "python3"
  },
  "language_info": {
   "codemirror_mode": {
    "name": "ipython",
    "version": 3
   },
   "file_extension": ".py",
   "mimetype": "text/x-python",
   "name": "python",
   "nbconvert_exporter": "python",
   "pygments_lexer": "ipython3",
   "version": "3.11.6"
  }
 },
 "nbformat": 4,
 "nbformat_minor": 4
}
