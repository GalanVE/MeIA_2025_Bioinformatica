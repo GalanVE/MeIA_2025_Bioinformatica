{
 "cells": [
  {
   "cell_type": "markdown",
   "id": "9aae6470-f3cf-46e5-81da-342ab700eccb",
   "metadata": {},
   "source": [
    "# Machine learning su aplicación en Biología\n",
    "\n",
    "__Inteligencia Artificial Aplicada al Análisis de Datos Biológicos__\n",
    "\n",
    "_MeIA_\n",
    "\n",
    "`2025`"
   ]
  },
  {
   "cell_type": "markdown",
   "id": "abcf6890-f8dd-43e1-9be6-ef421fe8b9dc",
   "metadata": {},
   "source": [
    "## AlphaFold: The Revolution in Protein Structure Prediction"
   ]
  },
  {
   "cell_type": "markdown",
   "id": "19f32b77-e06b-45ba-96af-e55ef611cd04",
   "metadata": {},
   "source": [
    "# A Brief History of Protein Structural Studies\n",
    "\n",
    "Proteins are composed of a sequence of amino acids. This sequence determines their structural properties, which in turn govern their biological functions within the cell.\n",
    "\n",
    "<img src=\"./Figures/Seq_protein.png\" width=\"600\" height=\"600\"/>\n",
    "\n",
    "## Secondary Structures \n",
    "\n",
    "\n",
    "<img src=\"./Figures/Seq_protein-2.png\" width=\"800\" height=\"800\"/>\n",
    "\n",
    "## Structural Motifs\n",
    "\n",
    "<img src=\"./Figures/Motifs.png\" width=\"800\" height=\"800\"/>\n",
    "\n",
    "## How can we determine if a protein has a structural motif? Let’s examine the case of `MarA`. (https://www.uniprot.org/uniprotkb/P0ACH5/entry):\n",
    "\n",
    "<img src=\"./Figures/MarA.png\" width=\"800\" height=\"800\"/>\n",
    "\n"
   ]
  },
  {
   "cell_type": "markdown",
   "id": "4c115722-2d92-464f-8769-1f3142433de6",
   "metadata": {},
   "source": [
    "# Therefore, studying protein structure allows us to:\n",
    "\n",
    "1. Design more effective and selective drugs;\n",
    "\n",
    "2. Investigate protein misfolding in diseases such as Alzheimer’s disease, Parkinson’s disease, type I diabetes, senile dementia, amyotrophic lateral sclerosis (ALS), Huntington’s disease, and others;\n",
    "\n",
    "3. Assess the impact of amino acid mutations—for example, the Mpro mutation in SARS-CoV and SARS-CoV-2;\n",
    "\n",
    "4. Apply bioengineering for enzymatic catalysis"
   ]
  },
  {
   "cell_type": "markdown",
   "id": "b2773aa5-3233-4dc7-9b9c-504d38ffb90a",
   "metadata": {},
   "source": [
    "# The key question is: how can we obtain protein models to investigate their structure?"
   ]
  },
  {
   "attachments": {},
   "cell_type": "markdown",
   "id": "01f1b701",
   "metadata": {},
   "source": [
    "https://www.rcsb.org/\n",
    "\n",
    "<img src=\"./Figures/PDB.png\" width=\"800\" height=\"800\"/>\n"
   ]
  },
  {
   "cell_type": "markdown",
   "id": "d1ed0b19-36f5-495c-a877-3e812c0c44a1",
   "metadata": {},
   "source": [
    "In some cases, protein models are obtained experimentally using X-ray crystallography, NMR (Nuclear Magnetic Resonance) spectroscopy, or more recently through cryo-EM (cryo-electron microscopy).\n",
    "\n",
    "However, __protein crystallization is not always feasible, nor is it consistently possible to obtain sufficiently purified samples for structural characterization.__\n",
    "\n",
    "## If a protein's structure is predominantly determined by its amino acid sequence, how can we predict its structure from that sequence alone?\n",
    "\n",
    "This is a fundamental challenge in structural biology. Given the problem's complexity, the CASP (Critical Assessment of Structure Prediction) competition was established to evaluate computational methods for protein structure prediction.\n",
    "\n",
    "During CASP14 (2020), AlphaFold achieved breakthrough accuracy in predicting protein structures, marking a transformative moment for the field (https://predictioncenter.org/casp14/zscores_final.cgi).\n",
    "\n",
    "<div style=\"background-color: #e6f3ff; padding: 10px; border: 1px solid #0077cc; border-radius: 5px;\">\n",
    "    <strong>📌 Important:</strong>  \n",
    "    In CASP14, <strong>AlphaFold</strong> was the top-ranked protein structure prediction method by a large margin, producing predictions with high accuracy. While the system still has some limitations, the CASP results suggest AlphaFold has immediate potential to help us understand the structure of proteins and advance biological research.\n",
    "</div>\n",
    "\n",
    "\n",
    "<img src=\"./Figures/AlphaFold.png\" width=\"800\" height=\"800\"/>\n",
    "\n",
    "AlphaFold represents an innovative IA approach that integrates biophysical knowledge of protein structures with deep learning architecture, leveraging multiple sequence alignments in its algorithm design. For detailed methodology, we recommend consulting the original publication: \n",
    "\n",
    "Jumper, J., Evans, R., Pritzel, A. et al. Highly accurate protein structure prediction with AlphaFold. Nature 596, 583–589 (2021). https://doi.org/10.1038/s41586-021-03819-2\n",
    "\n",
    "<img src=\"./Figures/AlphaFold-2.1.png\" width=\"1000\" height=\"1000\"/>\n",
    "\n",
    "# AlphaFold DB provides open access to over 200 million protein structure predictions to accelerate scientific research.\n",
    "\n",
    "<img src=\"./Figures/AlphaFold-3.png\" width=\"800\" height=\"800\"/>\n",
    "\n",
    "\n",
    "\n"
   ]
  },
  {
   "cell_type": "markdown",
   "id": "7b71626e-196f-4409-840d-1b91beb80967",
   "metadata": {},
   "source": [
    "# AlphaFold's breakthrough was so significant for protein science that it was honored with the Nobel Prize in Chemistry."
   ]
  },
  {
   "cell_type": "markdown",
   "id": "c5577aa0-e1ef-426a-9fc3-3a320364a6fb",
   "metadata": {},
   "source": [
    "<img src=\"./Figures/AlphaFold-4.png\" width=\"800\" height=\"800\"/>\n",
    "\n",
    "<div style=\"background-color: #e6f3ff; padding: 10px; text-align: center;\">\n",
    "    <strong>AlphaFold Breakthrough:</strong>  \n",
    "    \"Protein structure prediction revolutionized by AI.\"\n",
    "</div>\n",
    "\n",
    "<div style=\"background-color: #e6f3ff; padding: 10px; text-align: center;\">\n",
    "   🧬 <strong>\"I hope when we look back on AlphaFold, it will be the first proof point of AI’s incredible potential.”</strong> \n",
    " 🧬 </div>"
   ]
  },
  {
   "cell_type": "markdown",
   "id": "324bc591-11f5-49be-913b-157e61139343",
   "metadata": {},
   "source": [
    "# Using Protein Visualization Tools\n",
    "\n",
    "We will now utilize the `nglview` library for protein visualization. To install the library, simply run:\n",
    "\n",
    "<div style=\"background: #f5f5f5; padding: 8px; border-left: 3px solid #555; font-family: monospace;\">\n",
    "pip install nglview\n",
    "</div>"
   ]
  },
  {
   "cell_type": "code",
   "execution_count": 2,
   "id": "55f1e68e-a3a1-4042-b207-c120d577b224",
   "metadata": {},
   "outputs": [
    {
     "name": "stdout",
     "output_type": "stream",
     "text": [
      "Requirement already satisfied: nglview in /prj/prjpapc/fariasab/anaconda3/envs/nglview_env/lib/python3.9/site-packages (0.0.0)\n",
      "Requirement already satisfied: ipywidgets>=8 in /prj/prjpapc/fariasab/anaconda3/envs/nglview_env/lib/python3.9/site-packages (from nglview) (8.1.7)\n",
      "Requirement already satisfied: notebook>=7 in /prj/prjpapc/fariasab/anaconda3/envs/nglview_env/lib/python3.9/site-packages (from nglview) (7.4.3)\n",
      "Requirement already satisfied: jupyterlab>=3 in /prj/prjpapc/fariasab/anaconda3/envs/nglview_env/lib/python3.9/site-packages (from nglview) (4.4.3)\n",
      "Requirement already satisfied: jupyterlab_widgets in /prj/prjpapc/fariasab/anaconda3/envs/nglview_env/lib/python3.9/site-packages (from nglview) (3.0.15)\n",
      "Requirement already satisfied: numpy in /prj/prjpapc/fariasab/anaconda3/envs/nglview_env/lib/python3.9/site-packages (from nglview) (2.0.2)\n",
      "Requirement already satisfied: comm>=0.1.3 in /prj/prjpapc/fariasab/anaconda3/envs/nglview_env/lib/python3.9/site-packages (from ipywidgets>=8->nglview) (0.2.2)\n",
      "Requirement already satisfied: ipython>=6.1.0 in /prj/prjpapc/fariasab/anaconda3/envs/nglview_env/lib/python3.9/site-packages (from ipywidgets>=8->nglview) (8.18.1)\n",
      "Requirement already satisfied: traitlets>=4.3.1 in /prj/prjpapc/fariasab/anaconda3/envs/nglview_env/lib/python3.9/site-packages (from ipywidgets>=8->nglview) (5.14.3)\n",
      "Requirement already satisfied: widgetsnbextension~=4.0.14 in /prj/prjpapc/fariasab/anaconda3/envs/nglview_env/lib/python3.9/site-packages (from ipywidgets>=8->nglview) (4.0.14)\n",
      "Requirement already satisfied: decorator in /prj/prjpapc/fariasab/anaconda3/envs/nglview_env/lib/python3.9/site-packages (from ipython>=6.1.0->ipywidgets>=8->nglview) (5.2.1)\n",
      "Requirement already satisfied: jedi>=0.16 in /prj/prjpapc/fariasab/anaconda3/envs/nglview_env/lib/python3.9/site-packages (from ipython>=6.1.0->ipywidgets>=8->nglview) (0.19.2)\n",
      "Requirement already satisfied: matplotlib-inline in /prj/prjpapc/fariasab/anaconda3/envs/nglview_env/lib/python3.9/site-packages (from ipython>=6.1.0->ipywidgets>=8->nglview) (0.1.7)\n",
      "Requirement already satisfied: prompt-toolkit<3.1.0,>=3.0.41 in /prj/prjpapc/fariasab/anaconda3/envs/nglview_env/lib/python3.9/site-packages (from ipython>=6.1.0->ipywidgets>=8->nglview) (3.0.51)\n",
      "Requirement already satisfied: pygments>=2.4.0 in /prj/prjpapc/fariasab/anaconda3/envs/nglview_env/lib/python3.9/site-packages (from ipython>=6.1.0->ipywidgets>=8->nglview) (2.19.1)\n",
      "Requirement already satisfied: stack-data in /prj/prjpapc/fariasab/anaconda3/envs/nglview_env/lib/python3.9/site-packages (from ipython>=6.1.0->ipywidgets>=8->nglview) (0.6.3)\n",
      "Requirement already satisfied: typing-extensions in /prj/prjpapc/fariasab/anaconda3/envs/nglview_env/lib/python3.9/site-packages (from ipython>=6.1.0->ipywidgets>=8->nglview) (4.13.2)\n",
      "Requirement already satisfied: exceptiongroup in /prj/prjpapc/fariasab/anaconda3/envs/nglview_env/lib/python3.9/site-packages (from ipython>=6.1.0->ipywidgets>=8->nglview) (1.3.0)\n",
      "Requirement already satisfied: pexpect>4.3 in /prj/prjpapc/fariasab/anaconda3/envs/nglview_env/lib/python3.9/site-packages (from ipython>=6.1.0->ipywidgets>=8->nglview) (4.9.0)\n",
      "Requirement already satisfied: wcwidth in /prj/prjpapc/fariasab/anaconda3/envs/nglview_env/lib/python3.9/site-packages (from prompt-toolkit<3.1.0,>=3.0.41->ipython>=6.1.0->ipywidgets>=8->nglview) (0.2.13)\n",
      "Requirement already satisfied: parso<0.9.0,>=0.8.4 in /prj/prjpapc/fariasab/anaconda3/envs/nglview_env/lib/python3.9/site-packages (from jedi>=0.16->ipython>=6.1.0->ipywidgets>=8->nglview) (0.8.4)\n",
      "Requirement already satisfied: async-lru>=1.0.0 in /prj/prjpapc/fariasab/anaconda3/envs/nglview_env/lib/python3.9/site-packages (from jupyterlab>=3->nglview) (2.0.5)\n",
      "Requirement already satisfied: httpx>=0.25.0 in /prj/prjpapc/fariasab/anaconda3/envs/nglview_env/lib/python3.9/site-packages (from jupyterlab>=3->nglview) (0.28.1)\n",
      "Requirement already satisfied: importlib-metadata>=4.8.3 in /prj/prjpapc/fariasab/anaconda3/envs/nglview_env/lib/python3.9/site-packages (from jupyterlab>=3->nglview) (8.7.0)\n",
      "Requirement already satisfied: ipykernel>=6.5.0 in /prj/prjpapc/fariasab/anaconda3/envs/nglview_env/lib/python3.9/site-packages (from jupyterlab>=3->nglview) (6.29.5)\n",
      "Requirement already satisfied: jinja2>=3.0.3 in /prj/prjpapc/fariasab/anaconda3/envs/nglview_env/lib/python3.9/site-packages (from jupyterlab>=3->nglview) (3.1.6)\n",
      "Requirement already satisfied: jupyter-core in /prj/prjpapc/fariasab/anaconda3/envs/nglview_env/lib/python3.9/site-packages (from jupyterlab>=3->nglview) (5.8.1)\n",
      "Requirement already satisfied: jupyter-lsp>=2.0.0 in /prj/prjpapc/fariasab/anaconda3/envs/nglview_env/lib/python3.9/site-packages (from jupyterlab>=3->nglview) (2.2.5)\n",
      "Requirement already satisfied: jupyter-server<3,>=2.4.0 in /prj/prjpapc/fariasab/anaconda3/envs/nglview_env/lib/python3.9/site-packages (from jupyterlab>=3->nglview) (2.16.0)\n",
      "Requirement already satisfied: jupyterlab-server<3,>=2.27.1 in /prj/prjpapc/fariasab/anaconda3/envs/nglview_env/lib/python3.9/site-packages (from jupyterlab>=3->nglview) (2.27.3)\n",
      "Requirement already satisfied: notebook-shim>=0.2 in /prj/prjpapc/fariasab/anaconda3/envs/nglview_env/lib/python3.9/site-packages (from jupyterlab>=3->nglview) (0.2.4)\n",
      "Requirement already satisfied: packaging in /prj/prjpapc/fariasab/anaconda3/envs/nglview_env/lib/python3.9/site-packages (from jupyterlab>=3->nglview) (25.0)\n",
      "Requirement already satisfied: setuptools>=41.1.0 in /prj/prjpapc/fariasab/anaconda3/envs/nglview_env/lib/python3.9/site-packages (from jupyterlab>=3->nglview) (78.1.1)\n",
      "Requirement already satisfied: tomli>=1.2.2 in /prj/prjpapc/fariasab/anaconda3/envs/nglview_env/lib/python3.9/site-packages (from jupyterlab>=3->nglview) (2.2.1)\n",
      "Requirement already satisfied: tornado>=6.2.0 in /prj/prjpapc/fariasab/anaconda3/envs/nglview_env/lib/python3.9/site-packages (from jupyterlab>=3->nglview) (6.5.1)\n",
      "Requirement already satisfied: anyio>=3.1.0 in /prj/prjpapc/fariasab/anaconda3/envs/nglview_env/lib/python3.9/site-packages (from jupyter-server<3,>=2.4.0->jupyterlab>=3->nglview) (4.9.0)\n",
      "Requirement already satisfied: argon2-cffi>=21.1 in /prj/prjpapc/fariasab/anaconda3/envs/nglview_env/lib/python3.9/site-packages (from jupyter-server<3,>=2.4.0->jupyterlab>=3->nglview) (23.1.0)\n",
      "Requirement already satisfied: jupyter-client>=7.4.4 in /prj/prjpapc/fariasab/anaconda3/envs/nglview_env/lib/python3.9/site-packages (from jupyter-server<3,>=2.4.0->jupyterlab>=3->nglview) (8.6.3)\n",
      "Requirement already satisfied: jupyter-events>=0.11.0 in /prj/prjpapc/fariasab/anaconda3/envs/nglview_env/lib/python3.9/site-packages (from jupyter-server<3,>=2.4.0->jupyterlab>=3->nglview) (0.12.0)\n",
      "Requirement already satisfied: jupyter-server-terminals>=0.4.4 in /prj/prjpapc/fariasab/anaconda3/envs/nglview_env/lib/python3.9/site-packages (from jupyter-server<3,>=2.4.0->jupyterlab>=3->nglview) (0.5.3)\n",
      "Requirement already satisfied: nbconvert>=6.4.4 in /prj/prjpapc/fariasab/anaconda3/envs/nglview_env/lib/python3.9/site-packages (from jupyter-server<3,>=2.4.0->jupyterlab>=3->nglview) (7.16.6)\n",
      "Requirement already satisfied: nbformat>=5.3.0 in /prj/prjpapc/fariasab/anaconda3/envs/nglview_env/lib/python3.9/site-packages (from jupyter-server<3,>=2.4.0->jupyterlab>=3->nglview) (5.10.4)\n",
      "Requirement already satisfied: overrides>=5.0 in /prj/prjpapc/fariasab/anaconda3/envs/nglview_env/lib/python3.9/site-packages (from jupyter-server<3,>=2.4.0->jupyterlab>=3->nglview) (7.7.0)\n",
      "Requirement already satisfied: prometheus-client>=0.9 in /prj/prjpapc/fariasab/anaconda3/envs/nglview_env/lib/python3.9/site-packages (from jupyter-server<3,>=2.4.0->jupyterlab>=3->nglview) (0.22.0)\n",
      "Requirement already satisfied: pyzmq>=24 in /prj/prjpapc/fariasab/anaconda3/envs/nglview_env/lib/python3.9/site-packages (from jupyter-server<3,>=2.4.0->jupyterlab>=3->nglview) (26.4.0)\n",
      "Requirement already satisfied: send2trash>=1.8.2 in /prj/prjpapc/fariasab/anaconda3/envs/nglview_env/lib/python3.9/site-packages (from jupyter-server<3,>=2.4.0->jupyterlab>=3->nglview) (1.8.3)\n",
      "Requirement already satisfied: terminado>=0.8.3 in /prj/prjpapc/fariasab/anaconda3/envs/nglview_env/lib/python3.9/site-packages (from jupyter-server<3,>=2.4.0->jupyterlab>=3->nglview) (0.18.1)\n",
      "Requirement already satisfied: websocket-client>=1.7 in /prj/prjpapc/fariasab/anaconda3/envs/nglview_env/lib/python3.9/site-packages (from jupyter-server<3,>=2.4.0->jupyterlab>=3->nglview) (1.8.0)\n",
      "Requirement already satisfied: babel>=2.10 in /prj/prjpapc/fariasab/anaconda3/envs/nglview_env/lib/python3.9/site-packages (from jupyterlab-server<3,>=2.27.1->jupyterlab>=3->nglview) (2.17.0)\n",
      "Requirement already satisfied: json5>=0.9.0 in /prj/prjpapc/fariasab/anaconda3/envs/nglview_env/lib/python3.9/site-packages (from jupyterlab-server<3,>=2.27.1->jupyterlab>=3->nglview) (0.12.0)\n",
      "Requirement already satisfied: jsonschema>=4.18.0 in /prj/prjpapc/fariasab/anaconda3/envs/nglview_env/lib/python3.9/site-packages (from jupyterlab-server<3,>=2.27.1->jupyterlab>=3->nglview) (4.24.0)\n",
      "Requirement already satisfied: requests>=2.31 in /prj/prjpapc/fariasab/anaconda3/envs/nglview_env/lib/python3.9/site-packages (from jupyterlab-server<3,>=2.27.1->jupyterlab>=3->nglview) (2.32.3)\n",
      "Requirement already satisfied: idna>=2.8 in /prj/prjpapc/fariasab/anaconda3/envs/nglview_env/lib/python3.9/site-packages (from anyio>=3.1.0->jupyter-server<3,>=2.4.0->jupyterlab>=3->nglview) (3.10)\n",
      "Requirement already satisfied: sniffio>=1.1 in /prj/prjpapc/fariasab/anaconda3/envs/nglview_env/lib/python3.9/site-packages (from anyio>=3.1.0->jupyter-server<3,>=2.4.0->jupyterlab>=3->nglview) (1.3.1)\n",
      "Requirement already satisfied: argon2-cffi-bindings in /prj/prjpapc/fariasab/anaconda3/envs/nglview_env/lib/python3.9/site-packages (from argon2-cffi>=21.1->jupyter-server<3,>=2.4.0->jupyterlab>=3->nglview) (21.2.0)\n",
      "Requirement already satisfied: certifi in /prj/prjpapc/fariasab/anaconda3/envs/nglview_env/lib/python3.9/site-packages (from httpx>=0.25.0->jupyterlab>=3->nglview) (2025.4.26)\n",
      "Requirement already satisfied: httpcore==1.* in /prj/prjpapc/fariasab/anaconda3/envs/nglview_env/lib/python3.9/site-packages (from httpx>=0.25.0->jupyterlab>=3->nglview) (1.0.9)\n",
      "Requirement already satisfied: h11>=0.16 in /prj/prjpapc/fariasab/anaconda3/envs/nglview_env/lib/python3.9/site-packages (from httpcore==1.*->httpx>=0.25.0->jupyterlab>=3->nglview) (0.16.0)\n",
      "Requirement already satisfied: zipp>=3.20 in /prj/prjpapc/fariasab/anaconda3/envs/nglview_env/lib/python3.9/site-packages (from importlib-metadata>=4.8.3->jupyterlab>=3->nglview) (3.22.0)\n",
      "Requirement already satisfied: debugpy>=1.6.5 in /prj/prjpapc/fariasab/anaconda3/envs/nglview_env/lib/python3.9/site-packages (from ipykernel>=6.5.0->jupyterlab>=3->nglview) (1.8.14)\n",
      "Requirement already satisfied: nest-asyncio in /prj/prjpapc/fariasab/anaconda3/envs/nglview_env/lib/python3.9/site-packages (from ipykernel>=6.5.0->jupyterlab>=3->nglview) (1.6.0)\n",
      "Requirement already satisfied: psutil in /prj/prjpapc/fariasab/anaconda3/envs/nglview_env/lib/python3.9/site-packages (from ipykernel>=6.5.0->jupyterlab>=3->nglview) (7.0.0)\n",
      "Requirement already satisfied: MarkupSafe>=2.0 in /prj/prjpapc/fariasab/anaconda3/envs/nglview_env/lib/python3.9/site-packages (from jinja2>=3.0.3->jupyterlab>=3->nglview) (3.0.2)\n",
      "Requirement already satisfied: attrs>=22.2.0 in /prj/prjpapc/fariasab/anaconda3/envs/nglview_env/lib/python3.9/site-packages (from jsonschema>=4.18.0->jupyterlab-server<3,>=2.27.1->jupyterlab>=3->nglview) (25.3.0)\n",
      "Requirement already satisfied: jsonschema-specifications>=2023.03.6 in /prj/prjpapc/fariasab/anaconda3/envs/nglview_env/lib/python3.9/site-packages (from jsonschema>=4.18.0->jupyterlab-server<3,>=2.27.1->jupyterlab>=3->nglview) (2025.4.1)\n",
      "Requirement already satisfied: referencing>=0.28.4 in /prj/prjpapc/fariasab/anaconda3/envs/nglview_env/lib/python3.9/site-packages (from jsonschema>=4.18.0->jupyterlab-server<3,>=2.27.1->jupyterlab>=3->nglview) (0.36.2)\n",
      "Requirement already satisfied: rpds-py>=0.7.1 in /prj/prjpapc/fariasab/anaconda3/envs/nglview_env/lib/python3.9/site-packages (from jsonschema>=4.18.0->jupyterlab-server<3,>=2.27.1->jupyterlab>=3->nglview) (0.25.1)\n",
      "Requirement already satisfied: python-dateutil>=2.8.2 in /prj/prjpapc/fariasab/anaconda3/envs/nglview_env/lib/python3.9/site-packages (from jupyter-client>=7.4.4->jupyter-server<3,>=2.4.0->jupyterlab>=3->nglview) (2.9.0.post0)\n",
      "Requirement already satisfied: platformdirs>=2.5 in /prj/prjpapc/fariasab/anaconda3/envs/nglview_env/lib/python3.9/site-packages (from jupyter-core->jupyterlab>=3->nglview) (4.3.8)\n",
      "Requirement already satisfied: python-json-logger>=2.0.4 in /prj/prjpapc/fariasab/anaconda3/envs/nglview_env/lib/python3.9/site-packages (from jupyter-events>=0.11.0->jupyter-server<3,>=2.4.0->jupyterlab>=3->nglview) (2.0.7)\n",
      "Requirement already satisfied: pyyaml>=5.3 in /prj/prjpapc/fariasab/anaconda3/envs/nglview_env/lib/python3.9/site-packages (from jupyter-events>=0.11.0->jupyter-server<3,>=2.4.0->jupyterlab>=3->nglview) (6.0.2)\n",
      "Requirement already satisfied: rfc3339-validator in /prj/prjpapc/fariasab/anaconda3/envs/nglview_env/lib/python3.9/site-packages (from jupyter-events>=0.11.0->jupyter-server<3,>=2.4.0->jupyterlab>=3->nglview) (0.1.4)\n",
      "Requirement already satisfied: rfc3986-validator>=0.1.1 in /prj/prjpapc/fariasab/anaconda3/envs/nglview_env/lib/python3.9/site-packages (from jupyter-events>=0.11.0->jupyter-server<3,>=2.4.0->jupyterlab>=3->nglview) (0.1.1)\n",
      "Requirement already satisfied: fqdn in /prj/prjpapc/fariasab/anaconda3/envs/nglview_env/lib/python3.9/site-packages (from jsonschema[format-nongpl]>=4.18.0->jupyter-events>=0.11.0->jupyter-server<3,>=2.4.0->jupyterlab>=3->nglview) (1.5.1)\n",
      "Requirement already satisfied: isoduration in /prj/prjpapc/fariasab/anaconda3/envs/nglview_env/lib/python3.9/site-packages (from jsonschema[format-nongpl]>=4.18.0->jupyter-events>=0.11.0->jupyter-server<3,>=2.4.0->jupyterlab>=3->nglview) (20.11.0)\n",
      "Requirement already satisfied: jsonpointer>1.13 in /prj/prjpapc/fariasab/anaconda3/envs/nglview_env/lib/python3.9/site-packages (from jsonschema[format-nongpl]>=4.18.0->jupyter-events>=0.11.0->jupyter-server<3,>=2.4.0->jupyterlab>=3->nglview) (3.0.0)\n",
      "Requirement already satisfied: uri-template in /prj/prjpapc/fariasab/anaconda3/envs/nglview_env/lib/python3.9/site-packages (from jsonschema[format-nongpl]>=4.18.0->jupyter-events>=0.11.0->jupyter-server<3,>=2.4.0->jupyterlab>=3->nglview) (1.3.0)\n",
      "Requirement already satisfied: webcolors>=24.6.0 in /prj/prjpapc/fariasab/anaconda3/envs/nglview_env/lib/python3.9/site-packages (from jsonschema[format-nongpl]>=4.18.0->jupyter-events>=0.11.0->jupyter-server<3,>=2.4.0->jupyterlab>=3->nglview) (24.11.1)\n",
      "Requirement already satisfied: beautifulsoup4 in /prj/prjpapc/fariasab/anaconda3/envs/nglview_env/lib/python3.9/site-packages (from nbconvert>=6.4.4->jupyter-server<3,>=2.4.0->jupyterlab>=3->nglview) (4.13.4)\n",
      "Requirement already satisfied: bleach!=5.0.0 in /prj/prjpapc/fariasab/anaconda3/envs/nglview_env/lib/python3.9/site-packages (from bleach[css]!=5.0.0->nbconvert>=6.4.4->jupyter-server<3,>=2.4.0->jupyterlab>=3->nglview) (6.2.0)\n",
      "Requirement already satisfied: defusedxml in /prj/prjpapc/fariasab/anaconda3/envs/nglview_env/lib/python3.9/site-packages (from nbconvert>=6.4.4->jupyter-server<3,>=2.4.0->jupyterlab>=3->nglview) (0.7.1)\n",
      "Requirement already satisfied: jupyterlab-pygments in /prj/prjpapc/fariasab/anaconda3/envs/nglview_env/lib/python3.9/site-packages (from nbconvert>=6.4.4->jupyter-server<3,>=2.4.0->jupyterlab>=3->nglview) (0.3.0)\n",
      "Requirement already satisfied: mistune<4,>=2.0.3 in /prj/prjpapc/fariasab/anaconda3/envs/nglview_env/lib/python3.9/site-packages (from nbconvert>=6.4.4->jupyter-server<3,>=2.4.0->jupyterlab>=3->nglview) (3.1.3)\n",
      "Requirement already satisfied: nbclient>=0.5.0 in /prj/prjpapc/fariasab/anaconda3/envs/nglview_env/lib/python3.9/site-packages (from nbconvert>=6.4.4->jupyter-server<3,>=2.4.0->jupyterlab>=3->nglview) (0.10.2)\n",
      "Requirement already satisfied: pandocfilters>=1.4.1 in /prj/prjpapc/fariasab/anaconda3/envs/nglview_env/lib/python3.9/site-packages (from nbconvert>=6.4.4->jupyter-server<3,>=2.4.0->jupyterlab>=3->nglview) (1.5.0)\n",
      "Requirement already satisfied: webencodings in /prj/prjpapc/fariasab/anaconda3/envs/nglview_env/lib/python3.9/site-packages (from bleach!=5.0.0->bleach[css]!=5.0.0->nbconvert>=6.4.4->jupyter-server<3,>=2.4.0->jupyterlab>=3->nglview) (0.5.1)\n",
      "Requirement already satisfied: tinycss2<1.5,>=1.1.0 in /prj/prjpapc/fariasab/anaconda3/envs/nglview_env/lib/python3.9/site-packages (from bleach[css]!=5.0.0->nbconvert>=6.4.4->jupyter-server<3,>=2.4.0->jupyterlab>=3->nglview) (1.4.0)\n",
      "Requirement already satisfied: fastjsonschema>=2.15 in /prj/prjpapc/fariasab/anaconda3/envs/nglview_env/lib/python3.9/site-packages (from nbformat>=5.3.0->jupyter-server<3,>=2.4.0->jupyterlab>=3->nglview) (2.21.1)\n",
      "Requirement already satisfied: ptyprocess>=0.5 in /prj/prjpapc/fariasab/anaconda3/envs/nglview_env/lib/python3.9/site-packages (from pexpect>4.3->ipython>=6.1.0->ipywidgets>=8->nglview) (0.7.0)\n",
      "Requirement already satisfied: six>=1.5 in /prj/prjpapc/fariasab/anaconda3/envs/nglview_env/lib/python3.9/site-packages (from python-dateutil>=2.8.2->jupyter-client>=7.4.4->jupyter-server<3,>=2.4.0->jupyterlab>=3->nglview) (1.17.0)\n",
      "Requirement already satisfied: charset_normalizer<4,>=2 in /prj/prjpapc/fariasab/anaconda3/envs/nglview_env/lib/python3.9/site-packages (from requests>=2.31->jupyterlab-server<3,>=2.27.1->jupyterlab>=3->nglview) (3.4.2)\n",
      "Requirement already satisfied: urllib3<3,>=1.21.1 in /prj/prjpapc/fariasab/anaconda3/envs/nglview_env/lib/python3.9/site-packages (from requests>=2.31->jupyterlab-server<3,>=2.27.1->jupyterlab>=3->nglview) (2.4.0)\n",
      "Requirement already satisfied: cffi>=1.0.1 in /prj/prjpapc/fariasab/anaconda3/envs/nglview_env/lib/python3.9/site-packages (from argon2-cffi-bindings->argon2-cffi>=21.1->jupyter-server<3,>=2.4.0->jupyterlab>=3->nglview) (1.17.1)\n",
      "Requirement already satisfied: pycparser in /prj/prjpapc/fariasab/anaconda3/envs/nglview_env/lib/python3.9/site-packages (from cffi>=1.0.1->argon2-cffi-bindings->argon2-cffi>=21.1->jupyter-server<3,>=2.4.0->jupyterlab>=3->nglview) (2.22)\n",
      "Requirement already satisfied: soupsieve>1.2 in /prj/prjpapc/fariasab/anaconda3/envs/nglview_env/lib/python3.9/site-packages (from beautifulsoup4->nbconvert>=6.4.4->jupyter-server<3,>=2.4.0->jupyterlab>=3->nglview) (2.7)\n",
      "Requirement already satisfied: arrow>=0.15.0 in /prj/prjpapc/fariasab/anaconda3/envs/nglview_env/lib/python3.9/site-packages (from isoduration->jsonschema[format-nongpl]>=4.18.0->jupyter-events>=0.11.0->jupyter-server<3,>=2.4.0->jupyterlab>=3->nglview) (1.3.0)\n",
      "Requirement already satisfied: types-python-dateutil>=2.8.10 in /prj/prjpapc/fariasab/anaconda3/envs/nglview_env/lib/python3.9/site-packages (from arrow>=0.15.0->isoduration->jsonschema[format-nongpl]>=4.18.0->jupyter-events>=0.11.0->jupyter-server<3,>=2.4.0->jupyterlab>=3->nglview) (2.9.0.20250516)\n",
      "Requirement already satisfied: executing>=1.2.0 in /prj/prjpapc/fariasab/anaconda3/envs/nglview_env/lib/python3.9/site-packages (from stack-data->ipython>=6.1.0->ipywidgets>=8->nglview) (2.2.0)\n",
      "Requirement already satisfied: asttokens>=2.1.0 in /prj/prjpapc/fariasab/anaconda3/envs/nglview_env/lib/python3.9/site-packages (from stack-data->ipython>=6.1.0->ipywidgets>=8->nglview) (3.0.0)\n",
      "Requirement already satisfied: pure_eval in /prj/prjpapc/fariasab/anaconda3/envs/nglview_env/lib/python3.9/site-packages (from stack-data->ipython>=6.1.0->ipywidgets>=8->nglview) (0.2.3)\n",
      "Note: you may need to restart the kernel to use updated packages.\n"
     ]
    }
   ],
   "source": [
    "pip install nglview"
   ]
  },
  {
   "cell_type": "code",
   "execution_count": 1,
   "id": "b6244640-4e3f-4d87-9e07-4e867e2965d2",
   "metadata": {},
   "outputs": [
    {
     "data": {
      "application/vnd.jupyter.widget-view+json": {
       "model_id": "eb92114ab47046fdbf36c7dde629ae8d",
       "version_major": 2,
       "version_minor": 0
      },
      "text/plain": []
     },
     "metadata": {},
     "output_type": "display_data"
    }
   ],
   "source": [
    "import os\n",
    "import nglview as nv"
   ]
  },
  {
   "cell_type": "code",
   "execution_count": 2,
   "id": "2c13fdc1-b3b3-483d-a667-3d23ecb4d361",
   "metadata": {},
   "outputs": [
    {
     "data": {
      "application/vnd.jupyter.widget-view+json": {
       "model_id": "6db0e3fc67b34c358e2eee8a074a6b02",
       "version_major": 2,
       "version_minor": 0
      },
      "text/plain": [
       "NGLWidget()"
      ]
     },
     "metadata": {},
     "output_type": "display_data"
    }
   ],
   "source": [
    "filepath = os.path.join('PDB_files', '5uit.cif')\n",
    "view = nv.show_file(filepath)\n",
    "view"
   ]
  },
  {
   "cell_type": "code",
   "execution_count": 3,
   "id": "db9ad93e-c833-4b6f-aa3b-3bdbc78601d7",
   "metadata": {},
   "outputs": [
    {
     "data": {
      "application/vnd.jupyter.widget-view+json": {
       "model_id": "df9d0f9231d647178f00549f1792c71f",
       "version_major": 2,
       "version_minor": 0
      },
      "text/plain": [
       "NGLWidget()"
      ]
     },
     "metadata": {},
     "output_type": "display_data"
    }
   ],
   "source": [
    "filepath2 = os.path.join('PDB_files', '6bfn.cif')\n",
    "view2 = nv.show_file(filepath2)\n",
    "view2"
   ]
  },
  {
   "cell_type": "markdown",
   "id": "6a50215a",
   "metadata": {},
   "source": [
    "# ColabFold: making protein folding accessible to all\n",
    "\n",
    "Mirdita, M., Schütze, K., Moriwaki, Y. et al. ColabFold: making protein folding accessible to all. Nat Methods 19, 679–682 (2022). https://doi.org/10.1038/s41592-022-01488-1\n",
    "\n",
    "\n",
    "https://colab.research.google.com/github/sokrypton/ColabFold/blob/main/AlphaFold2.ipynb"
   ]
  },
  {
   "cell_type": "markdown",
   "id": "ad5c5a61",
   "metadata": {},
   "source": [
    "# Respiratory complex I from Escherichia coli\n",
    "\n",
    "Respiratory complex I is a multi-subunit membrane protein complex that reversibly couples NADH oxidation and ubiquinone reduction with proton translocation against transmembrane potential. Complex I from Escherichia coli is among the best functionally characterized complexes, but its structure remains unknown, hindering further studies to understand the enzyme coupling mechanism.\n",
    "\n",
    "Piotr Kolata, Rouslan G Efremov (2021). Structure of Escherichia coli respiratory complex I reconstituted into lipid nanodiscs reveals an uncoupled conformation. eLife. 10:e68710.\n",
    "\n",
    "<img src=\"./Figures/PDB_7nyr.png\" width=\"800\" height=\"800\"/>"
   ]
  },
  {
   "cell_type": "markdown",
   "id": "7a403c53",
   "metadata": {},
   "source": [
    "<img src=\"./Figures/Fig_Nuo_complex-final-3.png\" width=\"800\" height=\"800\"/>\n",
    "\n"
   ]
  },
  {
   "cell_type": "code",
   "execution_count": 4,
   "id": "190bbbf7-e1b5-4ad3-941d-487c4b413be5",
   "metadata": {},
   "outputs": [
    {
     "data": {
      "application/vnd.jupyter.widget-view+json": {
       "model_id": "2698c1ae64a3425694ceea6dbf700930",
       "version_major": 2,
       "version_minor": 0
      },
      "text/plain": [
       "NGLWidget()"
      ]
     },
     "metadata": {},
     "output_type": "display_data"
    }
   ],
   "source": [
    "filepath3 = os.path.join('PDB_files', '7nyr.cif')\n",
    "view = nv.show_file(filepath3)\n",
    "view"
   ]
  },
  {
   "cell_type": "markdown",
   "id": "7c91d0ee",
   "metadata": {},
   "source": [
    "# The goal of this example is to reconstruct part of this complex using ColabFold\n",
    "\n",
    "\\> I\n",
    "MIKEIINVVHGTFTQLRSLVMIFGHAFRKRDTLQYPEEPVYLPPRYRGRIVLTRDPDGEERCVACNLCAVACPVGCISLQKAETEDGRWYPEFFRINFSRCIFCGLCEEACPTTAIQLTPDFEMGEFKRQDLVYEKHDLLISGPGKNPDYNYYRVAGMAIAGKPKGAAQNEAEPINVKSLLP\n",
    "\n",
    "\\> H\n",
    "MSWLTPALVTIILTVVKAIVVLLAVVICGALLSWVERRLLGLWQDRYGPNRVGPFGAFQLGADMVKMFFKEDWTPPFADKMIFTLAPVIAMGALLVAFAIVPITPTWGVADLNIGILFFFAMAGLTVYAVLFAGWSSNNKFALLGSLRASAQTISYEVFLALSLMGIVAQVGSFNMRDIVQYQIDNVWFIIPQFFGFCTFIIAGVAVTHRHPFDQPEAEQELADGYHIEYAGMKWGMFFVGEYIGIVLVSALLATLFFGGWHGPFLDTLPWLSFFYFAAKTGFFIMLFILIRASLPRPRYDQVMAFSWKVCLPLTLINLLVTGALVLAAAQ\n",
    "\n",
    "\\> C\n",
    "MTADSALYIPPYKADDQDIVVELNSRFGAETFTVQPTRTGMPVLWVPRERLIEVLTFLRQVPKPYVMLYDLHGVDERLRTHRRGLPSADFSVFYHLMSLERNSDVMIKVALSERDLNLPTATRIWPNANWYEREVWDMYGITFTGHPHLTRMLMPPTWQGHPLRKDYPARATEFDPYSLSAAKQDLEQEALRFKPEDWGMKRHGENEDYMFLNLGPNHPSAHGAFRIILQLDGEEIIDCVPEIGYHHRGAEKMAERQSWHSFIPYTDRIDYLGGVMNNLPYVLSVEKLAGIKVPQRVDVIRIMMAEFFRILNHLLYLGTYIQDVGAMTPVFFTFTDRQRAYKVVEAITGFRLHPAWYRIGGVAHDLPRGWDKLVREFLDWMPKRLDEYETAALKNSILRGRTIGVAQYNTKEALEWGTTGAGLRATGCDFDLRKARPYSGYENFEFEVPLAHNGDAYDRCMVKMGEMRQSLRIIEQCLKNMPEGPYKADHPLTTPPPKERTLQHIETLITHFLQVSWGPVMPANEAFQMIEATKGINSYYLTSDGSTMSYRTRIRTPSFAHLQQIPSVINGSMIADLIAYLGSIDFVMADVDR\n",
    "\n",
    "\\> G\n",
    "MATIHVDGKTLEVDGADNLLQACLSLGLDIPYFCWHPALGSVGACRQCAVKQYTDENDKRGRLVMSCMTPATDNTWISIEDEEAKQFRASVVEWLMTNHPHDCPVCEEGGHCHLQDMTVMTGHNERRYRFTKRTHQNQELGPFIAHEMNRCIACYRCVRYYKDYAGGTDLGVYGAHDNVYFGRVEDGVLESEFSGNLTEVCPTGVFTDKTHSERYNRKWDMQFAPSICHGCSSGCNISPGERYGEIRRIENRYNGSVNHYFLCDRGRFGYGYVNREDRPRQPLLVLSKQKLSLDGALDQAAALLKERKVVGIGSPRASLESNFALRELVGEGNFYSGINEGELDRLRLILQVMQEGPLPVPSIRDIEDHDAVFVLGEDLTQTAARIALALRQSVKGKAVEMAADMKVQPWLDAAVKNIAQHAQNPLFIASVSATRLDDVAEETVHAAPDDLARLGFAVAHAIDPSAPAVADLDPQAQAFAQRIADALLVAKRPLVVSGNSLGNKALIEAAANIAKALKQREKNGSISLVVGEANSLGLALFGGDSVEAALERLTSGQADAVVVLENDLYRRTDAARVDAALAAARVVIVADHQQTATTAKAHLVLPAASFAEGDGTLVSQEGRAQRFFQVFDPTYYDAKNMVREGWRWLHAIHSTLQGKRVDWTQLDHVTEAVAEAKPILAGIRDAAPAASFRIKGLKLAREPHRYSGRTAMRANISVHEPRTPQDIDSAFAFSMEGYSGSQEDRQQIPFAWSPGWNSPQAWNKFQDEVGGHLRAGDPGVRLIEPKGEGLDWFQAVPVPFSAKADSWKVVPLYHLFGSEENSSRAAPIQQRIPETYVALSKEDADRLGVNDGATLGFQLKGQALRLPLRIDEQLGAGLIGLPVGFAGIPAAIAGCSVEGLQEAAQ\n",
    "\n",
    "\\> A\n",
    "MPNPAELAAHHWGFAAFLLGVVGLLAFMLGVSSLLGSKAFGRSKNEPFESGIVPTGGARLRLSAKFYLVAMLFVIFDVEALFLFAWSVSVRESGWAGLIEATIFIAILLAGLVYLWRIGALDWAPESRRKRQAKLKQ\n",
    "\n",
    "\n",
    "## We will select chains I and H to build the model.\n",
    "\n",
    "Now, lets check the results."
   ]
  },
  {
   "cell_type": "code",
   "execution_count": 14,
   "id": "4e062f30-6ff3-4b65-b236-6bd8a79de881",
   "metadata": {},
   "outputs": [
    {
     "data": {
      "application/vnd.jupyter.widget-view+json": {
       "model_id": "fc54ebc4bb224269a94300ab639a2c27",
       "version_major": 2,
       "version_minor": 0
      },
      "text/plain": [
       "NGLWidget()"
      ]
     },
     "metadata": {},
     "output_type": "display_data"
    }
   ],
   "source": [
    "# Load aligned structures\n",
    "view = nv.show_file(\"align_AF_7nyr.pdb\")\n",
    "view"
   ]
  },
  {
   "cell_type": "code",
   "execution_count": null,
   "id": "4ccb902c-58b0-4eb6-87da-b3b31fd3ca20",
   "metadata": {},
   "outputs": [],
   "source": []
  },
  {
   "cell_type": "code",
   "execution_count": null,
   "id": "f9d4b8b0-7634-4509-8a04-c333aced033f",
   "metadata": {},
   "outputs": [],
   "source": []
  }
 ],
 "metadata": {
  "kernelspec": {
   "display_name": "Python 3",
   "language": "python",
   "name": "python3"
  },
  "language_info": {
   "codemirror_mode": {
    "name": "ipython",
    "version": 3
   },
   "file_extension": ".py",
   "mimetype": "text/x-python",
   "name": "python",
   "nbconvert_exporter": "python",
   "pygments_lexer": "ipython3",
   "version": "3.8.8"
  }
 },
 "nbformat": 4,
 "nbformat_minor": 5
}
