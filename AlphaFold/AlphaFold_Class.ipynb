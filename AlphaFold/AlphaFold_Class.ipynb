{
 "cells": [
  {
   "cell_type": "markdown",
   "id": "9aae6470-f3cf-46e5-81da-342ab700eccb",
   "metadata": {},
   "source": [
    "# Machine learning su aplicación en Biología\n",
    "\n",
    "__Inteligencia Artificial Aplicada al Análisis de Datos Biológicos__\n",
    "\n",
    "_MeIA_\n",
    "\n",
    "`2025`"
   ]
  },
  {
   "cell_type": "markdown",
   "id": "abcf6890-f8dd-43e1-9be6-ef421fe8b9dc",
   "metadata": {},
   "source": [
    "## AlphaFold: The Revolution in Protein Structure Prediction"
   ]
  },
  {
   "cell_type": "markdown",
   "id": "19f32b77-e06b-45ba-96af-e55ef611cd04",
   "metadata": {},
   "source": [
    "# A Brief History of Protein Structural Studies\n",
    "\n",
    "Proteins are composed of a sequence of amino acids. This sequence determines their structural properties, which in turn govern their biological functions within the cell.\n",
    "\n",
    "<img src=\"./Figures/Seq_protein.png\" width=\"600\" height=\"600\"/>\n",
    "\n",
    "## Secondary Structures \n",
    "\n",
    "\n",
    "<img src=\"./Figures/Seq_protein-2.png\" width=\"800\" height=\"800\"/>\n",
    "\n",
    "## Structural Motifs\n",
    "\n",
    "<img src=\"./Figures/Motifs.png\" width=\"800\" height=\"800\"/>\n",
    "\n",
    "## How can we determine if a protein has a structural motif? Let’s examine the case of `MarA`. (https://www.uniprot.org/uniprotkb/P0ACH5/entry):\n",
    "\n",
    "<img src=\"./Figures/MarA.png\" width=\"800\" height=\"800\"/>\n",
    "\n"
   ]
  },
  {
   "cell_type": "markdown",
   "id": "4c115722-2d92-464f-8769-1f3142433de6",
   "metadata": {},
   "source": [
    "# Therefore, studying protein structure allows us to:\n",
    "\n",
    "1. Design more effective and selective drugs;\n",
    "\n",
    "2. Investigate protein misfolding in diseases such as Alzheimer’s disease, Parkinson’s disease, type I diabetes, senile dementia, amyotrophic lateral sclerosis (ALS), Huntington’s disease, and others;\n",
    "\n",
    "3. Assess the impact of amino acid mutations—for example, the Mpro mutation in SARS-CoV and SARS-CoV-2;\n",
    "\n",
    "4. Apply bioengineering for enzymatic catalysis"
   ]
  },
  {
   "cell_type": "markdown",
   "id": "b2773aa5-3233-4dc7-9b9c-504d38ffb90a",
   "metadata": {},
   "source": [
    "# The key question is: how can we obtain protein models to investigate their structure?"
   ]
  },
  {
   "cell_type": "markdown",
   "id": "01f1b701",
   "metadata": {},
   "source": [
    "https://www.rcsb.org/\n",
    "\n",
    "<img src=\"./Figures/PDB.png\" width=\"800\" height=\"800\"/>\n"
   ]
  },
  {
   "cell_type": "markdown",
   "id": "d1ed0b19-36f5-495c-a877-3e812c0c44a1",
   "metadata": {},
   "source": [
    "In some cases, protein models are obtained experimentally using X-ray crystallography, NMR (Nuclear Magnetic Resonance) spectroscopy, or more recently through cryo-EM (cryo-electron microscopy).\n",
    "\n",
    "However, __protein crystallization is not always feasible, nor is it consistently possible to obtain sufficiently purified samples for structural characterization.__\n",
    "\n",
    "## If a protein's structure is predominantly determined by its amino acid sequence, how can we predict its structure from that sequence alone?\n",
    "\n",
    "This is a fundamental challenge in structural biology. Given the problem's complexity, the CASP (Critical Assessment of Structure Prediction) competition was established to evaluate computational methods for protein structure prediction.\n",
    "\n",
    "During CASP14 (2020), AlphaFold achieved breakthrough accuracy in predicting protein structures, marking a transformative moment for the field (https://predictioncenter.org/casp14/zscores_final.cgi).\n",
    "\n",
    "<div style=\"background-color: #e6f3ff; padding: 10px; border: 1px solid #0077cc; border-radius: 5px;\">\n",
    "    <strong>📌 Important:</strong>  \n",
    "    In CASP14, <strong>AlphaFold</strong> was the top-ranked protein structure prediction method by a large margin, producing predictions with high accuracy. While the system still has some limitations, the CASP results suggest AlphaFold has immediate potential to help us understand the structure of proteins and advance biological research.\n",
    "</div>\n",
    "\n",
    "\n",
    "<img src=\"./Figures/AlphaFold.png\" width=\"800\" height=\"800\"/>\n",
    "\n",
    "AlphaFold represents an innovative IA approach that integrates biophysical knowledge of protein structures with deep learning architecture, leveraging multiple sequence alignments in its algorithm design. For detailed methodology, we recommend consulting the original publication: \n",
    "\n",
    "Jumper, J., Evans, R., Pritzel, A. et al. Highly accurate protein structure prediction with AlphaFold. Nature 596, 583–589 (2021). https://doi.org/10.1038/s41586-021-03819-2\n",
    "\n",
    "<img src=\"./Figures/AlphaFold-2.1.png\" width=\"1000\" height=\"1000\"/>\n",
    "\n",
    "# AlphaFold DB provides open access to over 200 million protein structure predictions to accelerate scientific research.\n",
    "\n",
    "<img src=\"./Figures/AlphaFold-3.png\" width=\"800\" height=\"800\"/>\n",
    "\n",
    "\n",
    "\n"
   ]
  },
  {
   "cell_type": "markdown",
   "id": "7b71626e-196f-4409-840d-1b91beb80967",
   "metadata": {},
   "source": [
    "# AlphaFold's breakthrough was so significant for protein science that it was honored with the Nobel Prize in Chemistry."
   ]
  },
  {
   "cell_type": "markdown",
   "id": "c5577aa0-e1ef-426a-9fc3-3a320364a6fb",
   "metadata": {},
   "source": [
    "<img src=\"./Figures/AlphaFold-4.png\" width=\"800\" height=\"800\"/>\n",
    "\n",
    "<div style=\"background-color: #e6f3ff; padding: 10px; text-align: center;\">\n",
    "    <strong>AlphaFold Breakthrough:</strong>  \n",
    "    \"Protein structure prediction revolutionized by AI.\"\n",
    "</div>\n",
    "\n",
    "<div style=\"background-color: #e6f3ff; padding: 10px; text-align: center;\">\n",
    "   🧬 <strong>\"I hope when we look back on AlphaFold, it will be the first proof point of AI’s incredible potential.”</strong> \n",
    " 🧬 </div>"
   ]
  },
  {
   "cell_type": "markdown",
   "id": "324bc591-11f5-49be-913b-157e61139343",
   "metadata": {},
   "source": [
    "# Using Protein Visualization Tools\n",
    "\n",
    "We will now utilize the `nglview` library for protein visualization. To install the library, simply run:\n",
    "\n",
    "<div style=\"background: #f5f5f5; padding: 8px; border-left: 3px solid #555; font-family: monospace;\">\n",
    "pip install nglview\n",
    "</div>"
   ]
  },
  {
   "cell_type": "code",
   "execution_count": 8,
   "id": "55f1e68e-a3a1-4042-b207-c120d577b224",
   "metadata": {},
   "outputs": [],
   "source": [
    "# pip install nglview"
   ]
  },
  {
   "cell_type": "code",
   "execution_count": 9,
   "id": "b6244640-4e3f-4d87-9e07-4e867e2965d2",
   "metadata": {},
   "outputs": [],
   "source": [
    "import os\n",
    "import nglview as nv"
   ]
  },
  {
   "cell_type": "code",
   "execution_count": 10,
   "id": "2c13fdc1-b3b3-483d-a667-3d23ecb4d361",
   "metadata": {},
   "outputs": [
    {
     "data": {
      "application/vnd.jupyter.widget-view+json": {
       "model_id": "540238a3f1f742b198f0b0ca4a38f586",
       "version_major": 2,
       "version_minor": 0
      },
      "text/plain": [
       "NGLWidget()"
      ]
     },
     "metadata": {},
     "output_type": "display_data"
    }
   ],
   "source": [
    "filepath = os.path.join('PDB_files', '5uit.cif')\n",
    "view = nv.show_file(filepath)\n",
    "view"
   ]
  },
  {
   "cell_type": "code",
   "execution_count": 11,
   "id": "db9ad93e-c833-4b6f-aa3b-3bdbc78601d7",
   "metadata": {},
   "outputs": [
    {
     "data": {
      "application/vnd.jupyter.widget-view+json": {
       "model_id": "23f6829b9356490e9020eb4330e9e521",
       "version_major": 2,
       "version_minor": 0
      },
      "text/plain": [
       "NGLWidget()"
      ]
     },
     "metadata": {},
     "output_type": "display_data"
    }
   ],
   "source": [
    "filepath2 = os.path.join('PDB_files', '6bfn.cif')\n",
    "view2 = nv.show_file(filepath2)\n",
    "view2"
   ]
  },
  {
   "cell_type": "markdown",
   "id": "6a50215a",
   "metadata": {},
   "source": [
    "# ColabFold: making protein folding accessible to all\n",
    "\n",
    "Mirdita, M., Schütze, K., Moriwaki, Y. et al. ColabFold: making protein folding accessible to all. Nat Methods 19, 679–682 (2022). https://doi.org/10.1038/s41592-022-01488-1\n",
    "\n",
    "\n",
    "https://colab.research.google.com/github/sokrypton/ColabFold/blob/main/AlphaFold2.ipynb"
   ]
  },
  {
   "cell_type": "markdown",
   "id": "ad5c5a61",
   "metadata": {},
   "source": [
    "# Respiratory complex I from Escherichia coli\n",
    "\n",
    "Respiratory complex I is a multi-subunit membrane protein complex that reversibly couples NADH oxidation and ubiquinone reduction with proton translocation against transmembrane potential. Complex I from Escherichia coli is among the best functionally characterized complexes, but its structure remains unknown, hindering further studies to understand the enzyme coupling mechanism.\n",
    "\n",
    "Piotr Kolata, Rouslan G Efremov (2021). Structure of Escherichia coli respiratory complex I reconstituted into lipid nanodiscs reveals an uncoupled conformation. eLife. 10:e68710.\n",
    "\n",
    "<img src=\"./Figures/PDB_7nyr.png\" width=\"800\" height=\"800\"/>"
   ]
  },
  {
   "cell_type": "markdown",
   "id": "7a403c53",
   "metadata": {},
   "source": [
    "<img src=\"./Figures/Fig_Nuo_complex-final-3.png\" width=\"800\" height=\"800\"/>\n",
    "\n"
   ]
  },
  {
   "cell_type": "code",
   "execution_count": 12,
   "id": "190bbbf7-e1b5-4ad3-941d-487c4b413be5",
   "metadata": {},
   "outputs": [
    {
     "data": {
      "application/vnd.jupyter.widget-view+json": {
       "model_id": "743b164a1cd749e581ad79f6e79ca843",
       "version_major": 2,
       "version_minor": 0
      },
      "text/plain": [
       "NGLWidget()"
      ]
     },
     "metadata": {},
     "output_type": "display_data"
    }
   ],
   "source": [
    "filepath3 = os.path.join('PDB_files', '7nyr.cif')\n",
    "view = nv.show_file(filepath3)\n",
    "view"
   ]
  },
  {
   "cell_type": "markdown",
   "id": "7c91d0ee",
   "metadata": {},
   "source": [
    "# The goal of this example is to reconstruct part of this complex using ColabFold\n",
    "\n",
    "\\> I\n",
    "MIKEIINVVHGTFTQLRSLVMIFGHAFRKRDTLQYPEEPVYLPPRYRGRIVLTRDPDGEERCVACNLCAVACPVGCISLQKAETEDGRWYPEFFRINFSRCIFCGLCEEACPTTAIQLTPDFEMGEFKRQDLVYEKHDLLISGPGKNPDYNYYRVAGMAIAGKPKGAAQNEAEPINVKSLLP\n",
    "\n",
    "\\> H\n",
    "MSWLTPALVTIILTVVKAIVVLLAVVICGALLSWVERRLLGLWQDRYGPNRVGPFGAFQLGADMVKMFFKEDWTPPFADKMIFTLAPVIAMGALLVAFAIVPITPTWGVADLNIGILFFFAMAGLTVYAVLFAGWSSNNKFALLGSLRASAQTISYEVFLALSLMGIVAQVGSFNMRDIVQYQIDNVWFIIPQFFGFCTFIIAGVAVTHRHPFDQPEAEQELADGYHIEYAGMKWGMFFVGEYIGIVLVSALLATLFFGGWHGPFLDTLPWLSFFYFAAKTGFFIMLFILIRASLPRPRYDQVMAFSWKVCLPLTLINLLVTGALVLAAAQ\n",
    "\n",
    "\\> C\n",
    "MTADSALYIPPYKADDQDIVVELNSRFGAETFTVQPTRTGMPVLWVPRERLIEVLTFLRQVPKPYVMLYDLHGVDERLRTHRRGLPSADFSVFYHLMSLERNSDVMIKVALSERDLNLPTATRIWPNANWYEREVWDMYGITFTGHPHLTRMLMPPTWQGHPLRKDYPARATEFDPYSLSAAKQDLEQEALRFKPEDWGMKRHGENEDYMFLNLGPNHPSAHGAFRIILQLDGEEIIDCVPEIGYHHRGAEKMAERQSWHSFIPYTDRIDYLGGVMNNLPYVLSVEKLAGIKVPQRVDVIRIMMAEFFRILNHLLYLGTYIQDVGAMTPVFFTFTDRQRAYKVVEAITGFRLHPAWYRIGGVAHDLPRGWDKLVREFLDWMPKRLDEYETAALKNSILRGRTIGVAQYNTKEALEWGTTGAGLRATGCDFDLRKARPYSGYENFEFEVPLAHNGDAYDRCMVKMGEMRQSLRIIEQCLKNMPEGPYKADHPLTTPPPKERTLQHIETLITHFLQVSWGPVMPANEAFQMIEATKGINSYYLTSDGSTMSYRTRIRTPSFAHLQQIPSVINGSMIADLIAYLGSIDFVMADVDR\n",
    "\n",
    "\\> G\n",
    "MATIHVDGKTLEVDGADNLLQACLSLGLDIPYFCWHPALGSVGACRQCAVKQYTDENDKRGRLVMSCMTPATDNTWISIEDEEAKQFRASVVEWLMTNHPHDCPVCEEGGHCHLQDMTVMTGHNERRYRFTKRTHQNQELGPFIAHEMNRCIACYRCVRYYKDYAGGTDLGVYGAHDNVYFGRVEDGVLESEFSGNLTEVCPTGVFTDKTHSERYNRKWDMQFAPSICHGCSSGCNISPGERYGEIRRIENRYNGSVNHYFLCDRGRFGYGYVNREDRPRQPLLVLSKQKLSLDGALDQAAALLKERKVVGIGSPRASLESNFALRELVGEGNFYSGINEGELDRLRLILQVMQEGPLPVPSIRDIEDHDAVFVLGEDLTQTAARIALALRQSVKGKAVEMAADMKVQPWLDAAVKNIAQHAQNPLFIASVSATRLDDVAEETVHAAPDDLARLGFAVAHAIDPSAPAVADLDPQAQAFAQRIADALLVAKRPLVVSGNSLGNKALIEAAANIAKALKQREKNGSISLVVGEANSLGLALFGGDSVEAALERLTSGQADAVVVLENDLYRRTDAARVDAALAAARVVIVADHQQTATTAKAHLVLPAASFAEGDGTLVSQEGRAQRFFQVFDPTYYDAKNMVREGWRWLHAIHSTLQGKRVDWTQLDHVTEAVAEAKPILAGIRDAAPAASFRIKGLKLAREPHRYSGRTAMRANISVHEPRTPQDIDSAFAFSMEGYSGSQEDRQQIPFAWSPGWNSPQAWNKFQDEVGGHLRAGDPGVRLIEPKGEGLDWFQAVPVPFSAKADSWKVVPLYHLFGSEENSSRAAPIQQRIPETYVALSKEDADRLGVNDGATLGFQLKGQALRLPLRIDEQLGAGLIGLPVGFAGIPAAIAGCSVEGLQEAAQ\n",
    "\n",
    "\\> A\n",
    "MPNPAELAAHHWGFAAFLLGVVGLLAFMLGVSSLLGSKAFGRSKNEPFESGIVPTGGARLRLSAKFYLVAMLFVIFDVEALFLFAWSVSVRESGWAGLIEATIFIAILLAGLVYLWRIGALDWAPESRRKRQAKLKQ\n",
    "\n",
    "\n",
    "## We will select chains I and H to build the model.\n",
    "\n",
    "Now, lets check the results."
   ]
  },
  {
   "cell_type": "code",
   "execution_count": 13,
   "id": "4e062f30-6ff3-4b65-b236-6bd8a79de881",
   "metadata": {},
   "outputs": [
    {
     "data": {
      "application/vnd.jupyter.widget-view+json": {
       "model_id": "feab05c39e1e4cca8b09d3f999b11888",
       "version_major": 2,
       "version_minor": 0
      },
      "text/plain": [
       "NGLWidget()"
      ]
     },
     "metadata": {},
     "output_type": "display_data"
    }
   ],
   "source": [
    "# Load aligned structures\n",
    "view = nv.show_file(\"align_AF_7nyr.pdb\")\n",
    "view"
   ]
  },
  {
   "cell_type": "code",
   "execution_count": null,
   "id": "4ccb902c-58b0-4eb6-87da-b3b31fd3ca20",
   "metadata": {},
   "outputs": [],
   "source": []
  },
  {
   "cell_type": "code",
   "execution_count": null,
   "id": "f9d4b8b0-7634-4509-8a04-c333aced033f",
   "metadata": {},
   "outputs": [],
   "source": []
  }
 ],
 "metadata": {
  "kernelspec": {
   "display_name": "Python 3",
   "language": "python",
   "name": "python3"
  },
  "language_info": {
   "codemirror_mode": {
    "name": "ipython",
    "version": 3
   },
   "file_extension": ".py",
   "mimetype": "text/x-python",
   "name": "python",
   "nbconvert_exporter": "python",
   "pygments_lexer": "ipython3",
   "version": "3.8.8"
  }
 },
 "nbformat": 4,
 "nbformat_minor": 5
}
